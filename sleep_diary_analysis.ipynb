{
 "cells": [
  {
   "cell_type": "code",
   "execution_count": 2,
   "id": "3133662f-b80f-4605-83ef-1144218932e3",
   "metadata": {},
   "outputs": [],
   "source": [
    "import seaborn as sns\n",
    "import matplotlib.pyplot as plt\n",
    "import matplotlib\n",
    "import pandas as pd\n",
    "import numpy as np\n",
    "%matplotlib inline\n",
    "\n",
    "df_davis = pd.read_csv(\"davis_grace_female___.csv\")\n",
    "df_bed = pd.read_csv(\"bedTimeHours.csv\", header=None)\n",
    "df_day = pd.read_csv(\"dayCaffeine.csv\", header=None)\n",
    "df_gender = pd.read_csv(\"gender.csv\").T\n",
    "df_awake = pd.read_csv(\"minsAwake.csv\", header=None)\n",
    "df_nap = pd.read_csv(\"minutesNap.csv\", header=None)\n",
    "df_night = pd.read_csv(\"nightCaffeine.csv\", header=None)\n",
    "df_section = pd.read_csv(\"section.csv\", header=None).T\n",
    "df_ssi = pd.read_csv(\"SSI.csv\", header=None)\n",
    "df_sleep = pd.read_csv(\"toSleepMinutes.csv\", header=None)\n",
    "df_alarm = pd.read_csv(\"useAlarm.csv\", header=None)\n",
    "df_wake = pd.read_csv(\"wakeHours.csv\", header=None)\n",
    "df_hoursinbed = pd.read_csv(\"HoursinBed_.csv\", header=None) #wake-up minus bed-time in hours\n",
    "df_totalhoursslept = pd.read_csv(\"TotalHoursSlept.csv\", header=None) #(hours in bed + hours napping - hours to sleep - hours awake)"
   ]
  },
  {
   "cell_type": "code",
   "execution_count": 3,
   "id": "c9194ad8-7699-44f5-82b3-63551f4764fb",
   "metadata": {},
   "outputs": [
    {
     "data": {
      "text/html": [
       "<div>\n",
       "<style scoped>\n",
       "    .dataframe tbody tr th:only-of-type {\n",
       "        vertical-align: middle;\n",
       "    }\n",
       "\n",
       "    .dataframe tbody tr th {\n",
       "        vertical-align: top;\n",
       "    }\n",
       "\n",
       "    .dataframe thead th {\n",
       "        text-align: right;\n",
       "    }\n",
       "</style>\n",
       "<table border=\"1\" class=\"dataframe\">\n",
       "  <thead>\n",
       "    <tr style=\"text-align: right;\">\n",
       "      <th></th>\n",
       "      <th>Day caffeine? (1 = Yes, 0 = No)</th>\n",
       "      <th>Night caffeine? (1 = Yes, 0 = No)</th>\n",
       "      <th>Hours of day napping</th>\n",
       "      <th>Minutes to fall asleep</th>\n",
       "      <th>Bedtime(24-hourtime)</th>\n",
       "      <th>Wakeup_time(24 -hour time)</th>\n",
       "      <th>Alarm? (1 = Yes, 0 = No)</th>\n",
       "      <th>minutes awakened during night</th>\n",
       "      <th>SSI</th>\n",
       "      <th>Total Hours Slept</th>\n",
       "    </tr>\n",
       "  </thead>\n",
       "  <tbody>\n",
       "    <tr>\n",
       "      <th>count</th>\n",
       "      <td>21.000000</td>\n",
       "      <td>21.000000</td>\n",
       "      <td>21.000000</td>\n",
       "      <td>21.000000</td>\n",
       "      <td>21.000000</td>\n",
       "      <td>21.000000</td>\n",
       "      <td>21.000000</td>\n",
       "      <td>21.000000</td>\n",
       "      <td>21.000000</td>\n",
       "      <td>21.000000</td>\n",
       "    </tr>\n",
       "    <tr>\n",
       "      <th>mean</th>\n",
       "      <td>0.380952</td>\n",
       "      <td>0.142857</td>\n",
       "      <td>0.285714</td>\n",
       "      <td>14.761905</td>\n",
       "      <td>0.892857</td>\n",
       "      <td>9.095238</td>\n",
       "      <td>0.666667</td>\n",
       "      <td>9.761905</td>\n",
       "      <td>2.428571</td>\n",
       "      <td>8.033333</td>\n",
       "    </tr>\n",
       "    <tr>\n",
       "      <th>std</th>\n",
       "      <td>0.497613</td>\n",
       "      <td>0.358569</td>\n",
       "      <td>0.489168</td>\n",
       "      <td>5.804350</td>\n",
       "      <td>1.467505</td>\n",
       "      <td>1.113767</td>\n",
       "      <td>0.483046</td>\n",
       "      <td>7.154752</td>\n",
       "      <td>0.676123</td>\n",
       "      <td>1.107399</td>\n",
       "    </tr>\n",
       "    <tr>\n",
       "      <th>min</th>\n",
       "      <td>0.000000</td>\n",
       "      <td>0.000000</td>\n",
       "      <td>0.000000</td>\n",
       "      <td>5.000000</td>\n",
       "      <td>-1.000000</td>\n",
       "      <td>8.000000</td>\n",
       "      <td>0.000000</td>\n",
       "      <td>5.000000</td>\n",
       "      <td>1.000000</td>\n",
       "      <td>6.200000</td>\n",
       "    </tr>\n",
       "    <tr>\n",
       "      <th>25%</th>\n",
       "      <td>0.000000</td>\n",
       "      <td>0.000000</td>\n",
       "      <td>0.000000</td>\n",
       "      <td>10.000000</td>\n",
       "      <td>0.000000</td>\n",
       "      <td>8.500000</td>\n",
       "      <td>0.000000</td>\n",
       "      <td>5.000000</td>\n",
       "      <td>2.000000</td>\n",
       "      <td>7.300000</td>\n",
       "    </tr>\n",
       "    <tr>\n",
       "      <th>50%</th>\n",
       "      <td>0.000000</td>\n",
       "      <td>0.000000</td>\n",
       "      <td>0.000000</td>\n",
       "      <td>15.000000</td>\n",
       "      <td>0.500000</td>\n",
       "      <td>8.500000</td>\n",
       "      <td>1.000000</td>\n",
       "      <td>5.000000</td>\n",
       "      <td>2.000000</td>\n",
       "      <td>7.900000</td>\n",
       "    </tr>\n",
       "    <tr>\n",
       "      <th>75%</th>\n",
       "      <td>1.000000</td>\n",
       "      <td>0.000000</td>\n",
       "      <td>0.500000</td>\n",
       "      <td>20.000000</td>\n",
       "      <td>1.500000</td>\n",
       "      <td>9.500000</td>\n",
       "      <td>1.000000</td>\n",
       "      <td>10.000000</td>\n",
       "      <td>3.000000</td>\n",
       "      <td>8.700000</td>\n",
       "    </tr>\n",
       "    <tr>\n",
       "      <th>max</th>\n",
       "      <td>1.000000</td>\n",
       "      <td>1.000000</td>\n",
       "      <td>2.000000</td>\n",
       "      <td>25.000000</td>\n",
       "      <td>4.000000</td>\n",
       "      <td>12.000000</td>\n",
       "      <td>1.000000</td>\n",
       "      <td>30.000000</td>\n",
       "      <td>4.000000</td>\n",
       "      <td>10.100000</td>\n",
       "    </tr>\n",
       "  </tbody>\n",
       "</table>\n",
       "</div>"
      ],
      "text/plain": [
       "       Day caffeine? (1 = Yes, 0 = No)  Night caffeine? (1 = Yes, 0 = No)  \\\n",
       "count                        21.000000                          21.000000   \n",
       "mean                          0.380952                           0.142857   \n",
       "std                           0.497613                           0.358569   \n",
       "min                           0.000000                           0.000000   \n",
       "25%                           0.000000                           0.000000   \n",
       "50%                           0.000000                           0.000000   \n",
       "75%                           1.000000                           0.000000   \n",
       "max                           1.000000                           1.000000   \n",
       "\n",
       "       Hours of day napping  Minutes to fall asleep  Bedtime(24-hourtime)  \\\n",
       "count             21.000000               21.000000             21.000000   \n",
       "mean               0.285714               14.761905              0.892857   \n",
       "std                0.489168                5.804350              1.467505   \n",
       "min                0.000000                5.000000             -1.000000   \n",
       "25%                0.000000               10.000000              0.000000   \n",
       "50%                0.000000               15.000000              0.500000   \n",
       "75%                0.500000               20.000000              1.500000   \n",
       "max                2.000000               25.000000              4.000000   \n",
       "\n",
       "       Wakeup_time(24 -hour time)  Alarm? (1 = Yes, 0 = No)  \\\n",
       "count                   21.000000                 21.000000   \n",
       "mean                     9.095238                  0.666667   \n",
       "std                      1.113767                  0.483046   \n",
       "min                      8.000000                  0.000000   \n",
       "25%                      8.500000                  0.000000   \n",
       "50%                      8.500000                  1.000000   \n",
       "75%                      9.500000                  1.000000   \n",
       "max                     12.000000                  1.000000   \n",
       "\n",
       "       minutes awakened during night        SSI  Total Hours Slept  \n",
       "count                      21.000000  21.000000          21.000000  \n",
       "mean                        9.761905   2.428571           8.033333  \n",
       "std                         7.154752   0.676123           1.107399  \n",
       "min                         5.000000   1.000000           6.200000  \n",
       "25%                         5.000000   2.000000           7.300000  \n",
       "50%                         5.000000   2.000000           7.900000  \n",
       "75%                        10.000000   3.000000           8.700000  \n",
       "max                        30.000000   4.000000          10.100000  "
      ]
     },
     "execution_count": 3,
     "metadata": {},
     "output_type": "execute_result"
    }
   ],
   "source": [
    "#2. My info\n",
    "df_davis.describe()"
   ]
  },
  {
   "cell_type": "code",
   "execution_count": 4,
   "id": "48cb321c-c71a-4af5-ac4d-0195a74c0a3c",
   "metadata": {},
   "outputs": [
    {
     "data": {
      "text/plain": [
       "sections\n",
       "0.0    6.16665\n",
       "1.0    8.00000\n",
       "2.0    8.70000\n",
       "3.0    8.00000\n",
       "4.0    8.00000\n",
       "5.0    8.75000\n",
       "6.0    8.50000\n",
       "7.0    7.23335\n",
       "dtype: float64"
      ]
     },
     "execution_count": 4,
     "metadata": {},
     "output_type": "execute_result"
    }
   ],
   "source": [
    "#2. 1.) Wake-up Time\n",
    "horizontal_stack_wake = pd.concat([df_section, df_wake])\n",
    "horizontal_stack_wake\n",
    "\n",
    "horizontal_stack_wake.columns = horizontal_stack_wake.iloc[0]\n",
    "df_wake_ = horizontal_stack_wake[1:]\n",
    "df_wake = df_wake_.T\n",
    "df_wake = df_wake.rename_axis('sections')\n",
    "df_wake = df_wake.reset_index('sections')\n",
    "df_wake_grouped = df_wake.groupby('sections').median()\n",
    "df_wake_grouped.median(axis=1)"
   ]
  },
  {
   "cell_type": "code",
   "execution_count": 5,
   "id": "c8502060-fc8e-4977-b7e6-e15d3ecb0f93",
   "metadata": {},
   "outputs": [
    {
     "data": {
      "text/plain": [
       "sections\n",
       "0.0   -0.650000\n",
       "1.0    0.000000\n",
       "2.0    0.850000\n",
       "3.0    0.000000\n",
       "4.0    0.250000\n",
       "5.0    0.566670\n",
       "6.0    0.750000\n",
       "7.0   -0.058335\n",
       "dtype: float64"
      ]
     },
     "execution_count": 5,
     "metadata": {},
     "output_type": "execute_result"
    }
   ],
   "source": [
    "#2. 2.) Bed-time\n",
    "horizontal_stack_bed= pd.concat([df_section, df_bed])\n",
    "horizontal_stack_bed\n",
    "\n",
    "horizontal_stack_bed.columns = horizontal_stack_bed.iloc[0]\n",
    "df_bed_ = horizontal_stack_bed[1:]\n",
    "df_bed = df_bed_.T\n",
    "df_bed = df_bed.rename_axis('sections')\n",
    "df_bed = df_bed.reset_index('sections')\n",
    "df_bed_grouped = df_bed.groupby('sections').median()\n",
    "df_bed_grouped.median(axis=1)"
   ]
  },
  {
   "cell_type": "code",
   "execution_count": 6,
   "id": "3d6951bf-366a-4554-ab99-0e57a067425f",
   "metadata": {},
   "outputs": [
    {
     "data": {
      "text/plain": [
       "sections\n",
       "0.0    7.033350\n",
       "1.0    8.191500\n",
       "2.0    7.833350\n",
       "3.0    8.000000\n",
       "4.0    8.000000\n",
       "5.0    8.000000\n",
       "6.0    8.000000\n",
       "7.0    7.916685\n",
       "dtype: float64"
      ]
     },
     "execution_count": 6,
     "metadata": {},
     "output_type": "execute_result"
    }
   ],
   "source": [
    "#2. 3.) Hours in bed \n",
    "horizontal_stack_hoursinbed = pd.concat([df_section, df_hoursinbed])\n",
    "horizontal_stack_hoursinbed\n",
    "\n",
    "horizontal_stack_hoursinbed.columns = horizontal_stack_hoursinbed.iloc[0]\n",
    "df_hoursinbed_ = horizontal_stack_hoursinbed[1:]\n",
    "df_hoursinbed =df_hoursinbed_.T\n",
    "df_hoursinbed = df_hoursinbed.rename_axis('sections')\n",
    "df_hoursinbed = df_hoursinbed.reset_index('sections')\n",
    "df_hoursinbed_grouped = df_hoursinbed.groupby('sections')\n",
    "df_hoursinbed_grouped_median = df_hoursinbed.groupby('sections').median()\n",
    "df_hoursinbed_grouped_median.median(axis=1)"
   ]
  },
  {
   "cell_type": "code",
   "execution_count": 7,
   "id": "4f3d1292-9eb7-40fe-99c3-7f945ec49140",
   "metadata": {},
   "outputs": [
    {
     "data": {
      "text/plain": [
       "sections\n",
       "0.0     5.0\n",
       "1.0    10.0\n",
       "2.0     6.0\n",
       "3.0    15.0\n",
       "4.0    10.0\n",
       "5.0    10.0\n",
       "6.0    10.0\n",
       "7.0    14.5\n",
       "dtype: float64"
      ]
     },
     "execution_count": 7,
     "metadata": {},
     "output_type": "execute_result"
    }
   ],
   "source": [
    "#2. 4.) Minutes to Sleep\n",
    "horizontal_stack_sleep = pd.concat([df_section, df_sleep])\n",
    "horizontal_stack_sleep\n",
    "\n",
    "horizontal_stack_sleep.columns = horizontal_stack_sleep.iloc[0]\n",
    "df_sleep_ = horizontal_stack_sleep[1:]\n",
    "df_sleep = df_sleep_.T\n",
    "df_sleep = df_sleep.rename_axis('sections')\n",
    "df_sleep = df_sleep.reset_index('sections')\n",
    "df_sleep_grouped = df_sleep.groupby('sections').median()\n",
    "df_sleep_grouped.median(axis=1)"
   ]
  },
  {
   "cell_type": "code",
   "execution_count": 8,
   "id": "fdab7197-3789-4375-b036-c5c3b25afde8",
   "metadata": {},
   "outputs": [
    {
     "data": {
      "text/plain": [
       "sections\n",
       "0.0    0.0\n",
       "1.0    0.0\n",
       "2.0    0.0\n",
       "3.0    0.0\n",
       "4.0    0.0\n",
       "5.0    0.0\n",
       "6.0    0.0\n",
       "7.0    0.0\n",
       "dtype: float64"
      ]
     },
     "execution_count": 8,
     "metadata": {},
     "output_type": "execute_result"
    }
   ],
   "source": [
    "#2. 5.) Minutes of Napping\n",
    "horizontal_stack_nap = pd.concat([df_section, df_nap])\n",
    "horizontal_stack_nap\n",
    "\n",
    "horizontal_stack_nap.columns = horizontal_stack_nap.iloc[0]\n",
    "df_nap_ = horizontal_stack_nap[1:]\n",
    "df_nap = df_nap_.T\n",
    "df_nap = df_nap.rename_axis('sections')\n",
    "df_nap = df_nap.reset_index('sections')\n",
    "df_nap_grouped = df_nap.groupby('sections').median()\n",
    "df_nap_grouped.median(axis=1)"
   ]
  },
  {
   "cell_type": "code",
   "execution_count": 9,
   "id": "9c93cd4c-216c-4433-81f2-30113809f562",
   "metadata": {},
   "outputs": [
    {
     "data": {
      "text/plain": [
       "sections\n",
       "0.0    2.0\n",
       "1.0    0.0\n",
       "2.0    0.0\n",
       "3.0    0.0\n",
       "4.0    0.0\n",
       "5.0    0.0\n",
       "6.0    0.0\n",
       "7.0    0.0\n",
       "dtype: float64"
      ]
     },
     "execution_count": 9,
     "metadata": {},
     "output_type": "execute_result"
    }
   ],
   "source": [
    "#2. 6.) Minutes Awake\n",
    "horizontal_stack_awake = pd.concat([df_section, (df_awake)])\n",
    "horizontal_stack_awake\n",
    "\n",
    "horizontal_stack_awake.columns = horizontal_stack_awake.iloc[0]\n",
    "df_awake_ = horizontal_stack_awake[1:]\n",
    "df_awake = df_awake_.T\n",
    "df_awake = df_awake.rename_axis('sections')\n",
    "df_awake = df_awake.reset_index('sections')\n",
    "df_awake_grouped = df_awake.groupby('sections').median()\n",
    "df_awake_grouped.median(axis=1)"
   ]
  },
  {
   "cell_type": "code",
   "execution_count": 10,
   "id": "79402400-faaf-4616-a26b-4c9014bbf0a4",
   "metadata": {},
   "outputs": [
    {
     "data": {
      "text/plain": [
       "sections\n",
       "0.0    6.783333\n",
       "1.0    8.066500\n",
       "2.0    7.900000\n",
       "3.0    7.833337\n",
       "4.0    7.666670\n",
       "5.0    7.833333\n",
       "6.0    7.816683\n",
       "7.0    7.700000\n",
       "dtype: float64"
      ]
     },
     "execution_count": 10,
     "metadata": {},
     "output_type": "execute_result"
    }
   ],
   "source": [
    "#2. 7.) Total Daily Sleep\n",
    "horizontal_stack_total = pd.concat([df_section, df_totalhoursslept])\n",
    "horizontal_stack_total\n",
    "\n",
    "horizontal_stack_total.columns = horizontal_stack_total.iloc[0]\n",
    "df_total_ = horizontal_stack_total[1:]\n",
    "df_total = df_total_.T\n",
    "df_total = df_total.rename_axis('sections')\n",
    "df_total = df_total.reset_index('sections')\n",
    "df_total_grouped = df_total.groupby('sections')\n",
    "df_total_grouped_median = df_total.groupby('sections').median()\n",
    "df_total_grouped_median.median(axis=1)"
   ]
  },
  {
   "cell_type": "code",
   "execution_count": 11,
   "id": "1c6c92d1-5dab-495b-999e-26a3431a788a",
   "metadata": {},
   "outputs": [
    {
     "data": {
      "text/plain": [
       "sections\n",
       "0    2.5\n",
       "1    2.0\n",
       "2    2.0\n",
       "3    3.0\n",
       "4    2.0\n",
       "5    3.0\n",
       "6    2.5\n",
       "7    2.5\n",
       "dtype: float64"
      ]
     },
     "execution_count": 11,
     "metadata": {},
     "output_type": "execute_result"
    }
   ],
   "source": [
    "#2. 8.) Stanford Sleepiness Scale\n",
    "horizontal_stack_ssi = pd.concat([df_section, df_ssi])\n",
    "horizontal_stack_ssi\n",
    "\n",
    "horizontal_stack_ssi.columns = horizontal_stack_ssi.iloc[0]\n",
    "df_ssi_ = horizontal_stack_ssi[1:]\n",
    "df_ssi = df_ssi_.T\n",
    "df_ssi = df_ssi.rename_axis('sections')\n",
    "df_ssi = df_ssi.reset_index('sections')\n",
    "df_ssi_grouped = df_ssi.groupby('sections').median()\n",
    "df_ssi_grouped.median(axis=1)"
   ]
  },
  {
   "cell_type": "code",
   "execution_count": 12,
   "id": "f70f44cc-ceda-423a-bcd9-b602a97275c5",
   "metadata": {},
   "outputs": [
    {
     "data": {
      "text/html": [
       "<div>\n",
       "<style scoped>\n",
       "    .dataframe tbody tr th:only-of-type {\n",
       "        vertical-align: middle;\n",
       "    }\n",
       "\n",
       "    .dataframe tbody tr th {\n",
       "        vertical-align: top;\n",
       "    }\n",
       "\n",
       "    .dataframe thead th {\n",
       "        text-align: right;\n",
       "    }\n",
       "</style>\n",
       "<table border=\"1\" class=\"dataframe\">\n",
       "  <thead>\n",
       "    <tr style=\"text-align: right;\">\n",
       "      <th></th>\n",
       "      <th>Variable</th>\n",
       "      <th>My Data</th>\n",
       "      <th>Section 0</th>\n",
       "      <th>Section 1</th>\n",
       "      <th>Section 2</th>\n",
       "      <th>Section 3</th>\n",
       "      <th>Section 4</th>\n",
       "      <th>Section 5</th>\n",
       "      <th>Section 6</th>\n",
       "      <th>Section 7</th>\n",
       "    </tr>\n",
       "  </thead>\n",
       "  <tbody>\n",
       "    <tr>\n",
       "      <th>0</th>\n",
       "      <td>Wake-up time</td>\n",
       "      <td>8.5</td>\n",
       "      <td>6.2</td>\n",
       "      <td>8.0</td>\n",
       "      <td>8.7</td>\n",
       "      <td>8.0</td>\n",
       "      <td>8.0</td>\n",
       "      <td>8.8</td>\n",
       "      <td>8.5</td>\n",
       "      <td>7.2</td>\n",
       "    </tr>\n",
       "    <tr>\n",
       "      <th>1</th>\n",
       "      <td>Bed time</td>\n",
       "      <td>0.5</td>\n",
       "      <td>-0.7</td>\n",
       "      <td>0.0</td>\n",
       "      <td>0.9</td>\n",
       "      <td>0.0</td>\n",
       "      <td>0.3</td>\n",
       "      <td>0.6</td>\n",
       "      <td>0.8</td>\n",
       "      <td>0.1</td>\n",
       "    </tr>\n",
       "    <tr>\n",
       "      <th>2</th>\n",
       "      <td>Hours in Bed</td>\n",
       "      <td>8.0</td>\n",
       "      <td>7.0</td>\n",
       "      <td>8.2</td>\n",
       "      <td>7.8</td>\n",
       "      <td>8.0</td>\n",
       "      <td>8.0</td>\n",
       "      <td>8.0</td>\n",
       "      <td>8.0</td>\n",
       "      <td>7.9</td>\n",
       "    </tr>\n",
       "    <tr>\n",
       "      <th>3</th>\n",
       "      <td>Minutes to Sleep</td>\n",
       "      <td>15.0</td>\n",
       "      <td>5.0</td>\n",
       "      <td>10.0</td>\n",
       "      <td>6.0</td>\n",
       "      <td>15.0</td>\n",
       "      <td>10.0</td>\n",
       "      <td>10.0</td>\n",
       "      <td>10.0</td>\n",
       "      <td>14.5</td>\n",
       "    </tr>\n",
       "    <tr>\n",
       "      <th>4</th>\n",
       "      <td>Minutes of Napping</td>\n",
       "      <td>0.0</td>\n",
       "      <td>0.0</td>\n",
       "      <td>0.0</td>\n",
       "      <td>0.0</td>\n",
       "      <td>0.0</td>\n",
       "      <td>0.0</td>\n",
       "      <td>0.0</td>\n",
       "      <td>0.0</td>\n",
       "      <td>0.0</td>\n",
       "    </tr>\n",
       "    <tr>\n",
       "      <th>5</th>\n",
       "      <td>Minutes Awake</td>\n",
       "      <td>5.0</td>\n",
       "      <td>2.0</td>\n",
       "      <td>0.0</td>\n",
       "      <td>0.0</td>\n",
       "      <td>0.0</td>\n",
       "      <td>0.0</td>\n",
       "      <td>0.0</td>\n",
       "      <td>0.0</td>\n",
       "      <td>0.0</td>\n",
       "    </tr>\n",
       "    <tr>\n",
       "      <th>6</th>\n",
       "      <td>Total Daily Sleep</td>\n",
       "      <td>7.9</td>\n",
       "      <td>6.8</td>\n",
       "      <td>8.1</td>\n",
       "      <td>7.9</td>\n",
       "      <td>7.8</td>\n",
       "      <td>7.7</td>\n",
       "      <td>7.8</td>\n",
       "      <td>7.8</td>\n",
       "      <td>7.7</td>\n",
       "    </tr>\n",
       "    <tr>\n",
       "      <th>7</th>\n",
       "      <td>Stanford Sleepiness Scale</td>\n",
       "      <td>2.0</td>\n",
       "      <td>2.5</td>\n",
       "      <td>2.0</td>\n",
       "      <td>2.0</td>\n",
       "      <td>3.0</td>\n",
       "      <td>2.0</td>\n",
       "      <td>3.0</td>\n",
       "      <td>2.5</td>\n",
       "      <td>2.5</td>\n",
       "    </tr>\n",
       "  </tbody>\n",
       "</table>\n",
       "</div>"
      ],
      "text/plain": [
       "                    Variable  My Data  Section 0  Section 1  Section 2  \\\n",
       "0               Wake-up time      8.5        6.2        8.0        8.7   \n",
       "1                   Bed time      0.5       -0.7        0.0        0.9   \n",
       "2               Hours in Bed      8.0        7.0        8.2        7.8   \n",
       "3           Minutes to Sleep     15.0        5.0       10.0        6.0   \n",
       "4         Minutes of Napping      0.0        0.0        0.0        0.0   \n",
       "5              Minutes Awake      5.0        2.0        0.0        0.0   \n",
       "6          Total Daily Sleep      7.9        6.8        8.1        7.9   \n",
       "7  Stanford Sleepiness Scale      2.0        2.5        2.0        2.0   \n",
       "\n",
       "   Section 3  Section 4  Section 5  Section 6  Section 7  \n",
       "0        8.0        8.0        8.8        8.5        7.2  \n",
       "1        0.0        0.3        0.6        0.8        0.1  \n",
       "2        8.0        8.0        8.0        8.0        7.9  \n",
       "3       15.0       10.0       10.0       10.0       14.5  \n",
       "4        0.0        0.0        0.0        0.0        0.0  \n",
       "5        0.0        0.0        0.0        0.0        0.0  \n",
       "6        7.8        7.7        7.8        7.8        7.7  \n",
       "7        3.0        2.0        3.0        2.5        2.5  "
      ]
     },
     "execution_count": 12,
     "metadata": {},
     "output_type": "execute_result"
    }
   ],
   "source": [
    "# 2.) Overall Medians\n",
    "df_overallmedians = pd.read_csv(\"OverallMedians.csv\") #data calculated in 2.) combined\n",
    "df_overallmedians"
   ]
  },
  {
   "cell_type": "code",
   "execution_count": 13,
   "id": "fe7ddde2-24b1-4b23-978e-b15d6d228984",
   "metadata": {},
   "outputs": [],
   "source": [
    "# 3.) Total Hours Slept & Bedtimes\n",
    "df_total_T = df_total.T\n",
    "total_mean = df_total_T.describe(include='all').loc['mean'] #average total hours slept for each individual\n",
    "\n",
    "df_bed_T = df_bed.T\n",
    "bed_mean = df_bed_T.describe(include='all').loc['mean'] #average bedtime for each individual"
   ]
  },
  {
   "cell_type": "code",
   "execution_count": 14,
   "id": "467b9ba8-4315-459f-a774-26850bcf4e30",
   "metadata": {},
   "outputs": [
    {
     "data": {
      "text/html": [
       "<div>\n",
       "<style scoped>\n",
       "    .dataframe tbody tr th:only-of-type {\n",
       "        vertical-align: middle;\n",
       "    }\n",
       "\n",
       "    .dataframe tbody tr th {\n",
       "        vertical-align: top;\n",
       "    }\n",
       "\n",
       "    .dataframe thead th {\n",
       "        text-align: right;\n",
       "    }\n",
       "</style>\n",
       "<table border=\"1\" class=\"dataframe\">\n",
       "  <thead>\n",
       "    <tr style=\"text-align: right;\">\n",
       "      <th></th>\n",
       "      <th>Section</th>\n",
       "      <th>Total_mean</th>\n",
       "      <th>Bed_mean</th>\n",
       "    </tr>\n",
       "  </thead>\n",
       "  <tbody>\n",
       "    <tr>\n",
       "      <th>0</th>\n",
       "      <td>0</td>\n",
       "      <td>6.776526</td>\n",
       "      <td>-0.651514</td>\n",
       "    </tr>\n",
       "    <tr>\n",
       "      <th>1</th>\n",
       "      <td>3</td>\n",
       "      <td>6.824992</td>\n",
       "      <td>-1.805301</td>\n",
       "    </tr>\n",
       "    <tr>\n",
       "      <th>2</th>\n",
       "      <td>3</td>\n",
       "      <td>4.954546</td>\n",
       "      <td>0.871213</td>\n",
       "    </tr>\n",
       "    <tr>\n",
       "      <th>3</th>\n",
       "      <td>4</td>\n",
       "      <td>6.391686</td>\n",
       "      <td>0.738637</td>\n",
       "    </tr>\n",
       "    <tr>\n",
       "      <th>4</th>\n",
       "      <td>7</td>\n",
       "      <td>8.262877</td>\n",
       "      <td>-0.528026</td>\n",
       "    </tr>\n",
       "    <tr>\n",
       "      <th>...</th>\n",
       "      <td>...</td>\n",
       "      <td>...</td>\n",
       "      <td>...</td>\n",
       "    </tr>\n",
       "    <tr>\n",
       "      <th>338</th>\n",
       "      <td>6</td>\n",
       "      <td>6.292426</td>\n",
       "      <td>1.906059</td>\n",
       "    </tr>\n",
       "    <tr>\n",
       "      <th>339</th>\n",
       "      <td>5</td>\n",
       "      <td>7.259864</td>\n",
       "      <td>1.287880</td>\n",
       "    </tr>\n",
       "    <tr>\n",
       "      <th>340</th>\n",
       "      <td>7</td>\n",
       "      <td>6.546970</td>\n",
       "      <td>-0.511364</td>\n",
       "    </tr>\n",
       "    <tr>\n",
       "      <th>341</th>\n",
       "      <td>5</td>\n",
       "      <td>9.221272</td>\n",
       "      <td>0.936365</td>\n",
       "    </tr>\n",
       "    <tr>\n",
       "      <th>342</th>\n",
       "      <td>3</td>\n",
       "      <td>7.652263</td>\n",
       "      <td>-1.181816</td>\n",
       "    </tr>\n",
       "  </tbody>\n",
       "</table>\n",
       "<p>343 rows × 3 columns</p>\n",
       "</div>"
      ],
      "text/plain": [
       "     Section  Total_mean  Bed_mean\n",
       "0          0    6.776526 -0.651514\n",
       "1          3    6.824992 -1.805301\n",
       "2          3    4.954546  0.871213\n",
       "3          4    6.391686  0.738637\n",
       "4          7    8.262877 -0.528026\n",
       "..       ...         ...       ...\n",
       "338        6    6.292426  1.906059\n",
       "339        5    7.259864  1.287880\n",
       "340        7    6.546970 -0.511364\n",
       "341        5    9.221272  0.936365\n",
       "342        3    7.652263 -1.181816\n",
       "\n",
       "[343 rows x 3 columns]"
      ]
     },
     "metadata": {},
     "output_type": "display_data"
    },
    {
     "data": {
      "text/plain": [
       "-0.5724045978420869"
      ]
     },
     "metadata": {},
     "output_type": "display_data"
    },
    {
     "data": {
      "text/plain": [
       "0.5841749862628255"
      ]
     },
     "metadata": {},
     "output_type": "display_data"
    },
    {
     "data": {
      "image/png": "[encoded data removed]",
      "text/plain": [
       "<Figure size 432x288 with 1 Axes>"
      ]
     },
     "metadata": {
      "needs_background": "light"
     },
     "output_type": "display_data"
    }
   ],
   "source": [
    "df_section_ = pd.read_csv(\"section.csv\", header=None)\n",
    "horizontal_stack_means = pd.concat([df_section_, total_mean, bed_mean], axis=1)\n",
    "horizontal_stack_means.columns = ['Section','Total_mean', 'Bed_mean']\n",
    "df = horizontal_stack_means\n",
    "display(df)\n",
    "sns.scatterplot(data=df, x='Total_mean', y='Bed_mean', hue='Section', \n",
    "                palette= ['red','orange','yellow','green','blue','purple','pink','brown'])     \n",
    "plt.title('Average Hours Slept & Average Bedtime')\n",
    "plt.xlabel('Average Hours Slept')\n",
    "# Set y-axis label\n",
    "plt.ylabel('Average Bedtimes')\n",
    "\n",
    "#correlation\n",
    "display(df['Total_mean'].corr(df['Bed_mean'])) #correlation between the averages of the two variables\n",
    "display(np.corrcoef(df_total,df_bed)[0,1])"
   ]
  },
  {
   "cell_type": "code",
   "execution_count": 15,
   "id": "6d3a59ff-0f8e-4453-8277-63e883f49cac",
   "metadata": {},
   "outputs": [],
   "source": [
    "#3.) Total Hours Slept & SSI\n",
    "df_total_T = df_total.T\n",
    "total_mean = df_total_T.describe(include='all').loc['mean'] #average total hours slept for each individual\n",
    "\n",
    "df_ssi_T = df_ssi.T\n",
    "ssi_mean = df_ssi_T.describe(include='all').loc['mean'] #average bedtime for each individual"
   ]
  },
  {
   "cell_type": "code",
   "execution_count": 16,
   "id": "593cfd4b-f3b6-4829-b61c-f3358d7448bf",
   "metadata": {},
   "outputs": [
    {
     "data": {
      "text/plain": [
       "-0.1044048976801838"
      ]
     },
     "metadata": {},
     "output_type": "display_data"
    },
    {
     "name": "stderr",
     "output_type": "stream",
     "text": [
      "C:\\Users\\ggrac\\anaconda3\\lib\\site-packages\\numpy\\lib\\function_base.py:2691: RuntimeWarning: invalid value encountered in true_divide\n",
      "  c /= stddev[:, None]\n",
      "C:\\Users\\ggrac\\anaconda3\\lib\\site-packages\\numpy\\lib\\function_base.py:2692: RuntimeWarning: invalid value encountered in true_divide\n",
      "  c /= stddev[None, :]\n"
     ]
    },
    {
     "data": {
      "text/plain": [
       "0.5841749862628255"
      ]
     },
     "metadata": {},
     "output_type": "display_data"
    },
    {
     "data": {
      "image/png": "[encoded data removed]",
      "text/plain": [
       "<Figure size 432x288 with 1 Axes>"
      ]
     },
     "metadata": {
      "needs_background": "light"
     },
     "output_type": "display_data"
    }
   ],
   "source": [
    "df_section_ = pd.read_csv(\"section.csv\", header=None)\n",
    "horizontal_stack_means = pd.concat([total_mean, ssi_mean], axis=1)\n",
    "horizontal_stack_means.columns = ['Total_mean', 'SSI_mean']\n",
    "df = horizontal_stack_means\n",
    "# display(df)\n",
    "sns.scatterplot(data=df, x='Total_mean', y='SSI_mean', hue='Total_mean')\n",
    "           \n",
    "plt.title('Average Hours Slept & Average SSI')\n",
    "plt.xlabel('Average Hours Slept')\n",
    "# Set y-axis label\n",
    "plt.ylabel('Average SSI')\n",
    "\n",
    "#correlation\n",
    "display(df['Total_mean'].corr(df['SSI_mean'])) #correlation between the averages of the two variables\n",
    "display(np.corrcoef(df_total,df_ssi)[0,1])"
   ]
  },
  {
   "cell_type": "code",
   "execution_count": 17,
   "id": "e029d8ac-b30e-4c5b-9586-f076e124203b",
   "metadata": {
    "scrolled": true
   },
   "outputs": [
    {
     "data": {
      "text/plain": [
       "{'whiskers': [<matplotlib.lines.Line2D at 0x1a301d4e1c0>,\n",
       "  <matplotlib.lines.Line2D at 0x1a301d54e50>,\n",
       "  <matplotlib.lines.Line2D at 0x1a301de15e0>,\n",
       "  <matplotlib.lines.Line2D at 0x1a3010666d0>,\n",
       "  <matplotlib.lines.Line2D at 0x1a301d1ee80>,\n",
       "  <matplotlib.lines.Line2D at 0x1a301d1e730>,\n",
       "  <matplotlib.lines.Line2D at 0x1a301079a60>,\n",
       "  <matplotlib.lines.Line2D at 0x1a30106d0a0>,\n",
       "  <matplotlib.lines.Line2D at 0x1a3010acd00>,\n",
       "  <matplotlib.lines.Line2D at 0x1a3010ac760>,\n",
       "  <matplotlib.lines.Line2D at 0x1a3010917f0>,\n",
       "  <matplotlib.lines.Line2D at 0x1a30115da00>,\n",
       "  <matplotlib.lines.Line2D at 0x1a301143e80>,\n",
       "  <matplotlib.lines.Line2D at 0x1a301143400>,\n",
       "  <matplotlib.lines.Line2D at 0x1a301032550>,\n",
       "  <matplotlib.lines.Line2D at 0x1a301032b50>,\n",
       "  <matplotlib.lines.Line2D at 0x1a301027e80>,\n",
       "  <matplotlib.lines.Line2D at 0x1a301027b20>,\n",
       "  <matplotlib.lines.Line2D at 0x1a300f779a0>,\n",
       "  <matplotlib.lines.Line2D at 0x1a300f771f0>,\n",
       "  <matplotlib.lines.Line2D at 0x1a3010194f0>,\n",
       "  <matplotlib.lines.Line2D at 0x1a300f55d30>,\n",
       "  <matplotlib.lines.Line2D at 0x1a300fc8070>,\n",
       "  <matplotlib.lines.Line2D at 0x1a300ecb430>,\n",
       "  <matplotlib.lines.Line2D at 0x1a300fe3ac0>,\n",
       "  <matplotlib.lines.Line2D at 0x1a300fe3910>,\n",
       "  <matplotlib.lines.Line2D at 0x1a300fef370>,\n",
       "  <matplotlib.lines.Line2D at 0x1a300ff57c0>,\n",
       "  <matplotlib.lines.Line2D at 0x1a300f3a9d0>,\n",
       "  <matplotlib.lines.Line2D at 0x1a300f3ad90>,\n",
       "  <matplotlib.lines.Line2D at 0x1a300cf44c0>,\n",
       "  <matplotlib.lines.Line2D at 0x1a300f12b50>,\n",
       "  <matplotlib.lines.Line2D at 0x1a300f82910>,\n",
       "  <matplotlib.lines.Line2D at 0x1a300f88160>,\n",
       "  <matplotlib.lines.Line2D at 0x1a300fa3af0>,\n",
       "  <matplotlib.lines.Line2D at 0x1a300f0d4f0>,\n",
       "  <matplotlib.lines.Line2D at 0x1a300faaf10>,\n",
       "  <matplotlib.lines.Line2D at 0x1a300faaee0>,\n",
       "  <matplotlib.lines.Line2D at 0x1a300ed4610>,\n",
       "  <matplotlib.lines.Line2D at 0x1a300f4feb0>,\n",
       "  <matplotlib.lines.Line2D at 0x1a300d15dc0>,\n",
       "  <matplotlib.lines.Line2D at 0x1a300d15850>],\n",
       " 'caps': [<matplotlib.lines.Line2D at 0x1a301d54d00>,\n",
       "  <matplotlib.lines.Line2D at 0x1a301d5a9a0>,\n",
       "  <matplotlib.lines.Line2D at 0x1a301d30520>,\n",
       "  <matplotlib.lines.Line2D at 0x1a301d30970>,\n",
       "  <matplotlib.lines.Line2D at 0x1a301d18340>,\n",
       "  <matplotlib.lines.Line2D at 0x1a301d18940>,\n",
       "  <matplotlib.lines.Line2D at 0x1a301071b20>,\n",
       "  <matplotlib.lines.Line2D at 0x1a301076fa0>,\n",
       "  <matplotlib.lines.Line2D at 0x1a3010ac1c0>,\n",
       "  <matplotlib.lines.Line2D at 0x1a30100c6d0>,\n",
       "  <matplotlib.lines.Line2D at 0x1a30115d730>,\n",
       "  <matplotlib.lines.Line2D at 0x1a30115d460>,\n",
       "  <matplotlib.lines.Line2D at 0x1a300ebfee0>,\n",
       "  <matplotlib.lines.Line2D at 0x1a300f6c910>,\n",
       "  <matplotlib.lines.Line2D at 0x1a30102fdf0>,\n",
       "  <matplotlib.lines.Line2D at 0x1a30102fe80>,\n",
       "  <matplotlib.lines.Line2D at 0x1a301022970>,\n",
       "  <matplotlib.lines.Line2D at 0x1a3010223d0>,\n",
       "  <matplotlib.lines.Line2D at 0x1a3010009d0>,\n",
       "  <matplotlib.lines.Line2D at 0x1a301017fd0>,\n",
       "  <matplotlib.lines.Line2D at 0x1a300f55c70>,\n",
       "  <matplotlib.lines.Line2D at 0x1a300f55670>,\n",
       "  <matplotlib.lines.Line2D at 0x1a300fcd910>,\n",
       "  <matplotlib.lines.Line2D at 0x1a30115ca90>,\n",
       "  <matplotlib.lines.Line2D at 0x1a300fdd850>,\n",
       "  <matplotlib.lines.Line2D at 0x1a300ffb3a0>,\n",
       "  <matplotlib.lines.Line2D at 0x1a300ff5df0>,\n",
       "  <matplotlib.lines.Line2D at 0x1a300d10d90>,\n",
       "  <matplotlib.lines.Line2D at 0x1a300d06d90>,\n",
       "  <matplotlib.lines.Line2D at 0x1a300d06dc0>,\n",
       "  <matplotlib.lines.Line2D at 0x1a300f2ff70>,\n",
       "  <matplotlib.lines.Line2D at 0x1a300f2f640>,\n",
       "  <matplotlib.lines.Line2D at 0x1a300f88af0>,\n",
       "  <matplotlib.lines.Line2D at 0x1a300f8e640>,\n",
       "  <matplotlib.lines.Line2D at 0x1a300f0d820>,\n",
       "  <matplotlib.lines.Line2D at 0x1a300f9fd00>,\n",
       "  <matplotlib.lines.Line2D at 0x1a300fc06a0>,\n",
       "  <matplotlib.lines.Line2D at 0x1a300fc0c40>,\n",
       "  <matplotlib.lines.Line2D at 0x1a300f4f340>,\n",
       "  <matplotlib.lines.Line2D at 0x1a300f4b970>,\n",
       "  <matplotlib.lines.Line2D at 0x1a300d1c5b0>,\n",
       "  <matplotlib.lines.Line2D at 0x1a300d1cd30>],\n",
       " 'boxes': [<matplotlib.lines.Line2D at 0x1a301d47fa0>,\n",
       "  <matplotlib.lines.Line2D at 0x1a301de1b80>,\n",
       "  <matplotlib.lines.Line2D at 0x1a301d13b20>,\n",
       "  <matplotlib.lines.Line2D at 0x1a301081370>,\n",
       "  <matplotlib.lines.Line2D at 0x1a301012520>,\n",
       "  <matplotlib.lines.Line2D at 0x1a3010cb940>,\n",
       "  <matplotlib.lines.Line2D at 0x1a301d08040>,\n",
       "  <matplotlib.lines.Line2D at 0x1a300f18a90>,\n",
       "  <matplotlib.lines.Line2D at 0x1a30102afa0>,\n",
       "  <matplotlib.lines.Line2D at 0x1a300f77970>,\n",
       "  <matplotlib.lines.Line2D at 0x1a301019b80>,\n",
       "  <matplotlib.lines.Line2D at 0x1a300f5aa00>,\n",
       "  <matplotlib.lines.Line2D at 0x1a300fd1340>,\n",
       "  <matplotlib.lines.Line2D at 0x1a300fef820>,\n",
       "  <matplotlib.lines.Line2D at 0x1a300f3fe50>,\n",
       "  <matplotlib.lines.Line2D at 0x1a300cf4460>,\n",
       "  <matplotlib.lines.Line2D at 0x1a300f82b50>,\n",
       "  <matplotlib.lines.Line2D at 0x1a300fa3280>,\n",
       "  <matplotlib.lines.Line2D at 0x1a300faff10>,\n",
       "  <matplotlib.lines.Line2D at 0x1a300ed4550>,\n",
       "  <matplotlib.lines.Line2D at 0x1a300d15700>],\n",
       " 'medians': [<matplotlib.lines.Line2D at 0x1a301d5a730>,\n",
       "  <matplotlib.lines.Line2D at 0x1a301d36e80>,\n",
       "  <matplotlib.lines.Line2D at 0x1a301d2bb50>,\n",
       "  <matplotlib.lines.Line2D at 0x1a30108cd30>,\n",
       "  <matplotlib.lines.Line2D at 0x1a30100c5e0>,\n",
       "  <matplotlib.lines.Line2D at 0x1a30115d190>,\n",
       "  <matplotlib.lines.Line2D at 0x1a301069c70>,\n",
       "  <matplotlib.lines.Line2D at 0x1a30102f880>,\n",
       "  <matplotlib.lines.Line2D at 0x1a301022550>,\n",
       "  <matplotlib.lines.Line2D at 0x1a301017940>,\n",
       "  <matplotlib.lines.Line2D at 0x1a300f61a30>,\n",
       "  <matplotlib.lines.Line2D at 0x1a300fcd2e0>,\n",
       "  <matplotlib.lines.Line2D at 0x1a300ffbe80>,\n",
       "  <matplotlib.lines.Line2D at 0x1a300d105e0>,\n",
       "  <matplotlib.lines.Line2D at 0x1a300f36550>,\n",
       "  <matplotlib.lines.Line2D at 0x1a300f2f970>,\n",
       "  <matplotlib.lines.Line2D at 0x1a300f99250>,\n",
       "  <matplotlib.lines.Line2D at 0x1a300f081f0>,\n",
       "  <matplotlib.lines.Line2D at 0x1a300fbad60>,\n",
       "  <matplotlib.lines.Line2D at 0x1a300f4be80>,\n",
       "  <matplotlib.lines.Line2D at 0x1a300f71b50>],\n",
       " 'fliers': [<matplotlib.lines.Line2D at 0x1a301de1e50>,\n",
       "  <matplotlib.lines.Line2D at 0x1a301d13070>,\n",
       "  <matplotlib.lines.Line2D at 0x1a301d24700>,\n",
       "  <matplotlib.lines.Line2D at 0x1a301089910>,\n",
       "  <matplotlib.lines.Line2D at 0x1a3010cbeb0>,\n",
       "  <matplotlib.lines.Line2D at 0x1a301086eb0>,\n",
       "  <matplotlib.lines.Line2D at 0x1a300f18d60>,\n",
       "  <matplotlib.lines.Line2D at 0x1a30102acd0>,\n",
       "  <matplotlib.lines.Line2D at 0x1a30101e5b0>,\n",
       "  <matplotlib.lines.Line2D at 0x1a301007c40>,\n",
       "  <matplotlib.lines.Line2D at 0x1a300f5a970>,\n",
       "  <matplotlib.lines.Line2D at 0x1a300fd17f0>,\n",
       "  <matplotlib.lines.Line2D at 0x1a300fe8af0>,\n",
       "  <matplotlib.lines.Line2D at 0x1a300f3ff40>,\n",
       "  <matplotlib.lines.Line2D at 0x1a300f36d60>,\n",
       "  <matplotlib.lines.Line2D at 0x1a300cfe9d0>,\n",
       "  <matplotlib.lines.Line2D at 0x1a300f93a60>,\n",
       "  <matplotlib.lines.Line2D at 0x1a300f08430>,\n",
       "  <matplotlib.lines.Line2D at 0x1a300fb5b80>,\n",
       "  <matplotlib.lines.Line2D at 0x1a300f45400>,\n",
       "  <matplotlib.lines.Line2D at 0x1a300f2a490>],\n",
       " 'means': [<matplotlib.lines.Line2D at 0x1a301d3c670>,\n",
       "  <matplotlib.lines.Line2D at 0x1a301d0c910>,\n",
       "  <matplotlib.lines.Line2D at 0x1a301d24ac0>,\n",
       "  <matplotlib.lines.Line2D at 0x1a301089b50>,\n",
       "  <matplotlib.lines.Line2D at 0x1a300f1ea90>,\n",
       "  <matplotlib.lines.Line2D at 0x1a30115df40>,\n",
       "  <matplotlib.lines.Line2D at 0x1a300f18af0>,\n",
       "  <matplotlib.lines.Line2D at 0x1a30102abe0>,\n",
       "  <matplotlib.lines.Line2D at 0x1a30101ebe0>,\n",
       "  <matplotlib.lines.Line2D at 0x1a3010072e0>,\n",
       "  <matplotlib.lines.Line2D at 0x1a300f61c40>,\n",
       "  <matplotlib.lines.Line2D at 0x1a300fd8460>,\n",
       "  <matplotlib.lines.Line2D at 0x1a300fe82b0>,\n",
       "  <matplotlib.lines.Line2D at 0x1a300f3f790>,\n",
       "  <matplotlib.lines.Line2D at 0x1a300f36a30>,\n",
       "  <matplotlib.lines.Line2D at 0x1a300cfeb20>,\n",
       "  <matplotlib.lines.Line2D at 0x1a300f99c40>,\n",
       "  <matplotlib.lines.Line2D at 0x1a300f08130>,\n",
       "  <matplotlib.lines.Line2D at 0x1a300fb52b0>,\n",
       "  <matplotlib.lines.Line2D at 0x1a300f45e80>,\n",
       "  <matplotlib.lines.Line2D at 0x1a300f719d0>]}"
      ]
     },
     "metadata": {},
     "output_type": "display_data"
    },
    {
     "data": {
      "text/plain": [
       "Text(0, 0.5, 'Hours')"
      ]
     },
     "execution_count": 17,
     "metadata": {},
     "output_type": "execute_result"
    },
    {
     "data": {
      "image/png": "[encoded data removed]",
      "text/plain": [
       "<Figure size 432x288 with 1 Axes>"
      ]
     },
     "metadata": {
      "needs_background": "light"
     },
     "output_type": "display_data"
    }
   ],
   "source": [
    "# 4.) BOXPLOT OF GENDER\n",
    "df = pd.concat([df_gender, df_totalhoursslept])\n",
    "a = df.T\n",
    "df_men = a.loc[a['gender']=='male']\n",
    "df_men = df_men.T\n",
    "df_men = df_men.iloc[1: , :]\n",
    "display(plt.boxplot(df_men.iloc[: , 1:22], showmeans=True))\n",
    "plt.title('Average Sleep for Men per Day')\n",
    "plt.xlabel('Day')\n",
    "plt.ylabel('Hours')"
   ]
  },
  {
   "cell_type": "code",
   "execution_count": 18,
   "id": "27d9a6a2-705f-4e08-a2d2-126e9224ab52",
   "metadata": {},
   "outputs": [
    {
     "data": {
      "text/plain": [
       "{'whiskers': [<matplotlib.lines.Line2D at 0x1a301ffaf70>,\n",
       "  <matplotlib.lines.Line2D at 0x1a30200a280>,\n",
       "  <matplotlib.lines.Line2D at 0x1a302017670>,\n",
       "  <matplotlib.lines.Line2D at 0x1a302017940>,\n",
       "  <matplotlib.lines.Line2D at 0x1a3029a2d60>,\n",
       "  <matplotlib.lines.Line2D at 0x1a3029b0070>,\n",
       "  <matplotlib.lines.Line2D at 0x1a3029bc490>,\n",
       "  <matplotlib.lines.Line2D at 0x1a3029bc760>,\n",
       "  <matplotlib.lines.Line2D at 0x1a3029c5b50>,\n",
       "  <matplotlib.lines.Line2D at 0x1a3029c5e20>,\n",
       "  <matplotlib.lines.Line2D at 0x1a3029df250>,\n",
       "  <matplotlib.lines.Line2D at 0x1a3029df520>,\n",
       "  <matplotlib.lines.Line2D at 0x1a3029eb910>,\n",
       "  <matplotlib.lines.Line2D at 0x1a3029ebbe0>,\n",
       "  <matplotlib.lines.Line2D at 0x1a3029f9fd0>,\n",
       "  <matplotlib.lines.Line2D at 0x1a302a042e0>,\n",
       "  <matplotlib.lines.Line2D at 0x1a302a116d0>,\n",
       "  <matplotlib.lines.Line2D at 0x1a302a119a0>,\n",
       "  <matplotlib.lines.Line2D at 0x1a302a1dd90>,\n",
       "  <matplotlib.lines.Line2D at 0x1a302a2c0a0>,\n",
       "  <matplotlib.lines.Line2D at 0x1a302a36490>,\n",
       "  <matplotlib.lines.Line2D at 0x1a302a36760>,\n",
       "  <matplotlib.lines.Line2D at 0x1a302a43b50>,\n",
       "  <matplotlib.lines.Line2D at 0x1a302a43e20>,\n",
       "  <matplotlib.lines.Line2D at 0x1a302a5c250>,\n",
       "  <matplotlib.lines.Line2D at 0x1a302a5c520>,\n",
       "  <matplotlib.lines.Line2D at 0x1a302a69910>,\n",
       "  <matplotlib.lines.Line2D at 0x1a302a69be0>,\n",
       "  <matplotlib.lines.Line2D at 0x1a302a76fd0>,\n",
       "  <matplotlib.lines.Line2D at 0x1a302a822e0>,\n",
       "  <matplotlib.lines.Line2D at 0x1a302a8e6d0>,\n",
       "  <matplotlib.lines.Line2D at 0x1a302a8e9a0>,\n",
       "  <matplotlib.lines.Line2D at 0x1a302a9bd90>,\n",
       "  <matplotlib.lines.Line2D at 0x1a302aaa0a0>,\n",
       "  <matplotlib.lines.Line2D at 0x1a302ab5490>,\n",
       "  <matplotlib.lines.Line2D at 0x1a302ab5760>,\n",
       "  <matplotlib.lines.Line2D at 0x1a302ac1b50>,\n",
       "  <matplotlib.lines.Line2D at 0x1a302ac1e20>,\n",
       "  <matplotlib.lines.Line2D at 0x1a302adb250>,\n",
       "  <matplotlib.lines.Line2D at 0x1a302adb520>,\n",
       "  <matplotlib.lines.Line2D at 0x1a302ae6910>,\n",
       "  <matplotlib.lines.Line2D at 0x1a302ae6be0>],\n",
       " 'caps': [<matplotlib.lines.Line2D at 0x1a30200a550>,\n",
       "  <matplotlib.lines.Line2D at 0x1a30200a820>,\n",
       "  <matplotlib.lines.Line2D at 0x1a302017c10>,\n",
       "  <matplotlib.lines.Line2D at 0x1a302017ee0>,\n",
       "  <matplotlib.lines.Line2D at 0x1a3029b0340>,\n",
       "  <matplotlib.lines.Line2D at 0x1a3029b0610>,\n",
       "  <matplotlib.lines.Line2D at 0x1a3029bca30>,\n",
       "  <matplotlib.lines.Line2D at 0x1a3029bcd00>,\n",
       "  <matplotlib.lines.Line2D at 0x1a3029d4130>,\n",
       "  <matplotlib.lines.Line2D at 0x1a3029d4400>,\n",
       "  <matplotlib.lines.Line2D at 0x1a3029df7f0>,\n",
       "  <matplotlib.lines.Line2D at 0x1a3029dfac0>,\n",
       "  <matplotlib.lines.Line2D at 0x1a3029ebeb0>,\n",
       "  <matplotlib.lines.Line2D at 0x1a3029f91c0>,\n",
       "  <matplotlib.lines.Line2D at 0x1a302a045b0>,\n",
       "  <matplotlib.lines.Line2D at 0x1a302a04880>,\n",
       "  <matplotlib.lines.Line2D at 0x1a302a11c70>,\n",
       "  <matplotlib.lines.Line2D at 0x1a302a11f40>,\n",
       "  <matplotlib.lines.Line2D at 0x1a302a2c370>,\n",
       "  <matplotlib.lines.Line2D at 0x1a302a2c640>,\n",
       "  <matplotlib.lines.Line2D at 0x1a302a36a30>,\n",
       "  <matplotlib.lines.Line2D at 0x1a302a36d00>,\n",
       "  <matplotlib.lines.Line2D at 0x1a302a51130>,\n",
       "  <matplotlib.lines.Line2D at 0x1a302a51400>,\n",
       "  <matplotlib.lines.Line2D at 0x1a302a5c7f0>,\n",
       "  <matplotlib.lines.Line2D at 0x1a302a5cac0>,\n",
       "  <matplotlib.lines.Line2D at 0x1a302a69eb0>,\n",
       "  <matplotlib.lines.Line2D at 0x1a302a761c0>,\n",
       "  <matplotlib.lines.Line2D at 0x1a302a825b0>,\n",
       "  <matplotlib.lines.Line2D at 0x1a302a82880>,\n",
       "  <matplotlib.lines.Line2D at 0x1a302a8ec70>,\n",
       "  <matplotlib.lines.Line2D at 0x1a302a8ef40>,\n",
       "  <matplotlib.lines.Line2D at 0x1a302aaa370>,\n",
       "  <matplotlib.lines.Line2D at 0x1a302aaa640>,\n",
       "  <matplotlib.lines.Line2D at 0x1a302ab5a30>,\n",
       "  <matplotlib.lines.Line2D at 0x1a302ab5d00>,\n",
       "  <matplotlib.lines.Line2D at 0x1a302acf130>,\n",
       "  <matplotlib.lines.Line2D at 0x1a302acf400>,\n",
       "  <matplotlib.lines.Line2D at 0x1a302adb7f0>,\n",
       "  <matplotlib.lines.Line2D at 0x1a302adbac0>,\n",
       "  <matplotlib.lines.Line2D at 0x1a302ae6eb0>,\n",
       "  <matplotlib.lines.Line2D at 0x1a302af31c0>],\n",
       " 'boxes': [<matplotlib.lines.Line2D at 0x1a301ffaca0>,\n",
       "  <matplotlib.lines.Line2D at 0x1a3020173a0>,\n",
       "  <matplotlib.lines.Line2D at 0x1a3029a2a90>,\n",
       "  <matplotlib.lines.Line2D at 0x1a3029bc190>,\n",
       "  <matplotlib.lines.Line2D at 0x1a3029c5880>,\n",
       "  <matplotlib.lines.Line2D at 0x1a3029d4f40>,\n",
       "  <matplotlib.lines.Line2D at 0x1a3029eb640>,\n",
       "  <matplotlib.lines.Line2D at 0x1a3029f9d00>,\n",
       "  <matplotlib.lines.Line2D at 0x1a302a11400>,\n",
       "  <matplotlib.lines.Line2D at 0x1a302a1dac0>,\n",
       "  <matplotlib.lines.Line2D at 0x1a302a361c0>,\n",
       "  <matplotlib.lines.Line2D at 0x1a302a43880>,\n",
       "  <matplotlib.lines.Line2D at 0x1a302a51f40>,\n",
       "  <matplotlib.lines.Line2D at 0x1a302a69640>,\n",
       "  <matplotlib.lines.Line2D at 0x1a302a76d00>,\n",
       "  <matplotlib.lines.Line2D at 0x1a302a8e400>,\n",
       "  <matplotlib.lines.Line2D at 0x1a302a9bac0>,\n",
       "  <matplotlib.lines.Line2D at 0x1a302ab51c0>,\n",
       "  <matplotlib.lines.Line2D at 0x1a302ac1880>,\n",
       "  <matplotlib.lines.Line2D at 0x1a302acff40>,\n",
       "  <matplotlib.lines.Line2D at 0x1a302ae6640>],\n",
       " 'medians': [<matplotlib.lines.Line2D at 0x1a30200aaf0>,\n",
       "  <matplotlib.lines.Line2D at 0x1a3029a21f0>,\n",
       "  <matplotlib.lines.Line2D at 0x1a3029b08e0>,\n",
       "  <matplotlib.lines.Line2D at 0x1a3029bcfd0>,\n",
       "  <matplotlib.lines.Line2D at 0x1a3029d46d0>,\n",
       "  <matplotlib.lines.Line2D at 0x1a3029dfd90>,\n",
       "  <matplotlib.lines.Line2D at 0x1a3029f9490>,\n",
       "  <matplotlib.lines.Line2D at 0x1a302a04b50>,\n",
       "  <matplotlib.lines.Line2D at 0x1a302a1d250>,\n",
       "  <matplotlib.lines.Line2D at 0x1a302a2c910>,\n",
       "  <matplotlib.lines.Line2D at 0x1a302a36fd0>,\n",
       "  <matplotlib.lines.Line2D at 0x1a302a516d0>,\n",
       "  <matplotlib.lines.Line2D at 0x1a302a5cd90>,\n",
       "  <matplotlib.lines.Line2D at 0x1a302a76490>,\n",
       "  <matplotlib.lines.Line2D at 0x1a302a82b50>,\n",
       "  <matplotlib.lines.Line2D at 0x1a302a9b250>,\n",
       "  <matplotlib.lines.Line2D at 0x1a302aaa910>,\n",
       "  <matplotlib.lines.Line2D at 0x1a302ab5fd0>,\n",
       "  <matplotlib.lines.Line2D at 0x1a302acf6d0>,\n",
       "  <matplotlib.lines.Line2D at 0x1a302adbd90>,\n",
       "  <matplotlib.lines.Line2D at 0x1a302af3490>],\n",
       " 'fliers': [<matplotlib.lines.Line2D at 0x1a3020170d0>,\n",
       "  <matplotlib.lines.Line2D at 0x1a3029a27c0>,\n",
       "  <matplotlib.lines.Line2D at 0x1a3029b0e80>,\n",
       "  <matplotlib.lines.Line2D at 0x1a3029c55b0>,\n",
       "  <matplotlib.lines.Line2D at 0x1a3029d4c70>,\n",
       "  <matplotlib.lines.Line2D at 0x1a3029eb370>,\n",
       "  <matplotlib.lines.Line2D at 0x1a3029f9a30>,\n",
       "  <matplotlib.lines.Line2D at 0x1a302a11130>,\n",
       "  <matplotlib.lines.Line2D at 0x1a302a1d7f0>,\n",
       "  <matplotlib.lines.Line2D at 0x1a302a2ceb0>,\n",
       "  <matplotlib.lines.Line2D at 0x1a302a435b0>,\n",
       "  <matplotlib.lines.Line2D at 0x1a302a51c70>,\n",
       "  <matplotlib.lines.Line2D at 0x1a302a69370>,\n",
       "  <matplotlib.lines.Line2D at 0x1a302a76a30>,\n",
       "  <matplotlib.lines.Line2D at 0x1a302a8e130>,\n",
       "  <matplotlib.lines.Line2D at 0x1a302a9b7f0>,\n",
       "  <matplotlib.lines.Line2D at 0x1a302aaaeb0>,\n",
       "  <matplotlib.lines.Line2D at 0x1a302ac15b0>,\n",
       "  <matplotlib.lines.Line2D at 0x1a302acfc70>,\n",
       "  <matplotlib.lines.Line2D at 0x1a302ae6370>,\n",
       "  <matplotlib.lines.Line2D at 0x1a302af3a30>],\n",
       " 'means': [<matplotlib.lines.Line2D at 0x1a30200adc0>,\n",
       "  <matplotlib.lines.Line2D at 0x1a3029a24f0>,\n",
       "  <matplotlib.lines.Line2D at 0x1a3029b0bb0>,\n",
       "  <matplotlib.lines.Line2D at 0x1a3029c52e0>,\n",
       "  <matplotlib.lines.Line2D at 0x1a3029d49a0>,\n",
       "  <matplotlib.lines.Line2D at 0x1a3029eb0a0>,\n",
       "  <matplotlib.lines.Line2D at 0x1a3029f9760>,\n",
       "  <matplotlib.lines.Line2D at 0x1a302a04e20>,\n",
       "  <matplotlib.lines.Line2D at 0x1a302a1d520>,\n",
       "  <matplotlib.lines.Line2D at 0x1a302a2cbe0>,\n",
       "  <matplotlib.lines.Line2D at 0x1a302a432e0>,\n",
       "  <matplotlib.lines.Line2D at 0x1a302a519a0>,\n",
       "  <matplotlib.lines.Line2D at 0x1a302a690a0>,\n",
       "  <matplotlib.lines.Line2D at 0x1a302a76760>,\n",
       "  <matplotlib.lines.Line2D at 0x1a302a82e20>,\n",
       "  <matplotlib.lines.Line2D at 0x1a302a9b520>,\n",
       "  <matplotlib.lines.Line2D at 0x1a302aaabe0>,\n",
       "  <matplotlib.lines.Line2D at 0x1a302ac12e0>,\n",
       "  <matplotlib.lines.Line2D at 0x1a302acf9a0>,\n",
       "  <matplotlib.lines.Line2D at 0x1a302ae60a0>,\n",
       "  <matplotlib.lines.Line2D at 0x1a302af3760>]}"
      ]
     },
     "metadata": {},
     "output_type": "display_data"
    },
    {
     "data": {
      "text/plain": [
       "Text(0, 0.5, 'Hours')"
      ]
     },
     "execution_count": 18,
     "metadata": {},
     "output_type": "execute_result"
    },
    {
     "data": {
      "image/png": "[encoded data removed]",
      "text/plain": [
       "<Figure size 432x288 with 1 Axes>"
      ]
     },
     "metadata": {
      "needs_background": "light"
     },
     "output_type": "display_data"
    }
   ],
   "source": [
    "df = pd.concat([df_gender, df_totalhoursslept])\n",
    "a = df.T\n",
    "df_women = a.loc[a['gender']=='female']\n",
    "df_women = df_women.T\n",
    "df_women = df_women.iloc[1: , :]\n",
    "display(plt.boxplot(df_women.iloc[: , 1:22], showmeans=True))\n",
    "plt.title('Average Sleep for Women per Day')\n",
    "plt.xlabel('Day')\n",
    "plt.ylabel('Hours')"
   ]
  },
  {
   "cell_type": "code",
   "execution_count": 58,
   "id": "ff33ee1f-1935-4ec7-afc4-e4e0d3d00eb4",
   "metadata": {},
   "outputs": [],
   "source": [
    "#5.) DIFFERENCE IN SLEEP PATTERNS BY SECTION\n",
    "# AVERAGE BY SECTION\n",
    "df_wake_grouped = df_wake.groupby('sections').mean()\n",
    "df_wake_grouped.mean(axis=1)\n",
    "df_wake_grouped_T = df_wake_grouped.T\n",
    "sections_wake_mean = df_wake_grouped_T.describe(include='all').loc['mean'] #average wakeup time for each SECTION\n",
    "\n",
    "df_bed_grouped = df_bed.groupby('sections').mean()\n",
    "df_bed_grouped.mean(axis=1)\n",
    "df_bed_grouped_T = df_bed_grouped.T\n",
    "sections_bed_mean = df_bed_grouped_T.describe(include='all').loc['mean'] #average bedtime time for each SECTION\n",
    "\n",
    "df_hoursinbed_grouped = df_hoursinbed.groupby('sections').mean()\n",
    "df_hoursinbed_grouped.mean(axis=1)\n",
    "df_hoursinbed_grouped_T = df_hoursinbed_grouped.T\n",
    "sections_hoursinbed_mean = df_hoursinbed_grouped_T.describe(include='all').loc['mean'] #average hours in bed for each SECTION\n",
    "\n",
    "df_nap_grouped = df_nap.groupby('sections').mean()\n",
    "df_nap_grouped.mean(axis=1)\n",
    "df_nap_grouped_T = df_nap_grouped.T\n",
    "sections_nap_mean = df_nap_grouped_T.describe(include='all').loc['mean'] #average minutes napped for each SECTION\n",
    "\n",
    "df_awake_grouped = df_awake.groupby('sections').mean()\n",
    "df_awake_grouped.mean(axis=1)\n",
    "df_awake_grouped_T = df_awake_grouped.T\n",
    "sections_awake_mean = df_awake_grouped_T.describe(include='all').loc['mean'] #average minutes awake during the night for each SECTION\n",
    "\n",
    "df_total_grouped = df_total.groupby('sections').mean()\n",
    "df_total_grouped.mean(axis=1)\n",
    "df_total_grouped_T = df_total_grouped.T\n",
    "sections_total_mean = df_total_grouped_T.describe(include='all').loc['mean'] #average total hours slept for each SECTION\n",
    "\n",
    "df_ssi_grouped = df_ssi.groupby('sections').mean()\n",
    "df_ssi_grouped.mean(axis=1)\n",
    "df_ssi_grouped_T = df_ssi_grouped.T\n",
    "sections_ssi_mean = df_ssi_grouped_T.describe(include='all').loc['mean'] #average SSI for each SECTION"
   ]
  },
  {
   "cell_type": "code",
   "execution_count": 59,
   "id": "ddc74a81-1324-4775-9b59-3fbf5b9536bb",
   "metadata": {},
   "outputs": [
    {
     "data": {
      "text/plain": [
       "Ttest_indResult(statistic=25.461185279254256, pvalue=3.988633379100712e-13)"
      ]
     },
     "metadata": {},
     "output_type": "display_data"
    },
    {
     "data": {
      "text/plain": [
       "Ttest_indResult(statistic=9.365029944100293, pvalue=2.0920907895009057e-07)"
      ]
     },
     "metadata": {},
     "output_type": "display_data"
    },
    {
     "data": {
      "text/plain": [
       "Ttest_indResult(statistic=20.159448458396835, pvalue=9.655706255696567e-12)"
      ]
     },
     "metadata": {},
     "output_type": "display_data"
    },
    {
     "data": {
      "text/plain": [
       "Ttest_indResult(statistic=-14.43617307424353, pvalue=8.440128528802483e-10)"
      ]
     },
     "metadata": {},
     "output_type": "display_data"
    },
    {
     "data": {
      "text/plain": [
       "Ttest_indResult(statistic=7.543522474282239, pvalue=2.6952112179683878e-06)"
      ]
     },
     "metadata": {},
     "output_type": "display_data"
    },
    {
     "data": {
      "text/plain": [
       "Ttest_indResult(statistic=5.579945214309933, pvalue=6.783826878313932e-05)"
      ]
     },
     "metadata": {},
     "output_type": "display_data"
    },
    {
     "data": {
      "text/plain": [
       "Ttest_indResult(statistic=34.84787980331234, pvalue=5.258769326594672e-15)"
      ]
     },
     "metadata": {},
     "output_type": "display_data"
    },
    {
     "data": {
      "text/plain": [
       "Ttest_indResult(statistic=-35.66560327045598, pvalue=3.8135727213736416e-15)"
      ]
     },
     "metadata": {},
     "output_type": "display_data"
    },
    {
     "data": {
      "text/plain": [
       "Ttest_indResult(statistic=3.909526332044765, pvalue=0.0015720067411384934)"
      ]
     },
     "metadata": {},
     "output_type": "display_data"
    },
    {
     "data": {
      "text/plain": [
       "Ttest_indResult(statistic=-3.622597677227556, pvalue=0.0027714175928469434)"
      ]
     },
     "metadata": {},
     "output_type": "display_data"
    }
   ],
   "source": [
    "from scipy import stats\n",
    "a = sections_wake_mean\n",
    "b = sections_bed_mean\n",
    "c = sections_hoursinbed_mean\n",
    "d = sections_nap_mean\n",
    "e = sections_awake_mean\n",
    "f = sections_total_mean\n",
    "g = sections_ssi_mean\n",
    "\n",
    "\n",
    "display(stats.ttest_ind(a, b, trim=0)) #wake-up and bed times\n",
    "\n",
    "display(stats.ttest_ind(e, b, trim=0)) #minutes awake and bedtimes\n",
    "\n",
    "display(stats.ttest_ind(a, g, trim=0)) #wake-up time and SSI\n",
    "\n",
    "display(stats.ttest_ind(b, g, trim=0)) #bedtime and SSI\n",
    "\n",
    "display(stats.ttest_ind(d, g, trim=0)) #minutes napped and SSI\n",
    "\n",
    "display(stats.ttest_ind(e, g, trim=0)) #minutes awake and SSI\n",
    "\n",
    "display(stats.ttest_ind(f, g, trim=0)) #total hours slept and SSI\n",
    "\n",
    "display(stats.ttest_ind(b, f, trim=0)) #bed times and total hours slept\n",
    "\n",
    "display(stats.ttest_ind(d, f, trim=0)) #minutes napped and total hours slept\n",
    "\n",
    "display(stats.ttest_ind(a, d, trim=0)) #wake up times and minutes napped"
   ]
  },
  {
   "cell_type": "code",
   "execution_count": 1,
   "id": "85915d99-01c5-4b6d-88b3-943f50b42761",
   "metadata": {},
   "outputs": [
    {
     "ename": "NameError",
     "evalue": "name 'df_wake' is not defined",
     "output_type": "error",
     "traceback": [
      "\u001b[1;31m---------------------------------------------------------------------------\u001b[0m",
      "\u001b[1;31mNameError\u001b[0m                                 Traceback (most recent call last)",
      "Input \u001b[1;32mIn [1]\u001b[0m, in \u001b[0;36m<cell line: 2>\u001b[1;34m()\u001b[0m\n\u001b[0;32m      1\u001b[0m \u001b[38;5;66;03m# AVERAGE BY INDIVIDUALS\u001b[39;00m\n\u001b[1;32m----> 2\u001b[0m df_wake_T \u001b[38;5;241m=\u001b[39m \u001b[43mdf_wake\u001b[49m\u001b[38;5;241m.\u001b[39mT\n\u001b[0;32m      3\u001b[0m wake_mean \u001b[38;5;241m=\u001b[39m df_wake_T\u001b[38;5;241m.\u001b[39mdescribe(include\u001b[38;5;241m=\u001b[39m\u001b[38;5;124m'\u001b[39m\u001b[38;5;124mall\u001b[39m\u001b[38;5;124m'\u001b[39m)\u001b[38;5;241m.\u001b[39mloc[\u001b[38;5;124m'\u001b[39m\u001b[38;5;124mmean\u001b[39m\u001b[38;5;124m'\u001b[39m] \u001b[38;5;66;03m#average wake up times for each individual\u001b[39;00m\n\u001b[0;32m      5\u001b[0m df_bed_T \u001b[38;5;241m=\u001b[39m df_bed\u001b[38;5;241m.\u001b[39mT\n",
      "\u001b[1;31mNameError\u001b[0m: name 'df_wake' is not defined"
     ]
    }
   ],
   "source": [
    "# AVERAGE BY INDIVIDUALS\n",
    "df_wake_T = df_wake.T\n",
    "wake_mean = df_wake_T.describe(include='all').loc['mean'] #average wake up times for each individual\n",
    "\n",
    "df_bed_T = df_bed.T\n",
    "bed_mean = df_bed_T.describe(include='all').loc['mean'] #average bedtime for each individual\n",
    "\n",
    "df_hoursinbed_T = df_hoursinbed.T\n",
    "hoursinbed_mean = df_hoursinbed_T.describe(include='all').loc['mean'] #average hours in bed for each individual\n",
    "\n",
    "df_nap_T = df_nap_.T\n",
    "nap_mean = df_nap_T.describe(include='all').loc['mean'] #average minutes napped for each individual\n",
    "\n",
    "df_awake_T = df_awake.T\n",
    "awake_mean = df_awake_T.describe(include='all').loc['mean'] #average minutes spent awake during the night for each individual\n",
    "\n",
    "df_total_T = df_total.T\n",
    "total_mean = df_total_T.describe(include='all').loc['mean'] #average total hours slept for each individual\n",
    "\n",
    "df_ssi_T = df_ssi.T\n",
    "ssi_mean = df_ssi_T.describe(include='all').loc['mean'] #average ssi for each individual"
   ]
  },
  {
   "cell_type": "code",
   "execution_count": null,
   "id": "682b48d9-676f-4eb4-939d-ff75f093b910",
   "metadata": {},
   "outputs": [],
   "source": []
  }
 ],
 "metadata": {
  "kernelspec": {
   "display_name": "Python 3 (ipykernel)",
   "language": "python",
   "name": "python3"
  },
  "language_info": {
   "codemirror_mode": {
    "name": "ipython",
    "version": 3
   },
   "file_extension": ".py",
   "mimetype": "text/x-python",
   "name": "python",
   "nbconvert_exporter": "python",
   "pygments_lexer": "ipython3",
   "version": "3.9.12"
  }
 },
 "nbformat": 4,
 "nbformat_minor": 5
}
