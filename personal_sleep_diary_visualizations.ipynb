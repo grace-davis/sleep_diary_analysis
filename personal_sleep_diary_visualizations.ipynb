{
 "cells": [
  {
   "cell_type": "code",
   "execution_count": 35,
   "id": "bbd0e0c2-2cfd-4a0d-a15b-f3c41563aeb5",
   "metadata": {},
   "outputs": [
    {
     "data": {
      "text/html": [
       "<div>\n",
       "<style scoped>\n",
       "    .dataframe tbody tr th:only-of-type {\n",
       "        vertical-align: middle;\n",
       "    }\n",
       "\n",
       "    .dataframe tbody tr th {\n",
       "        vertical-align: top;\n",
       "    }\n",
       "\n",
       "    .dataframe thead th {\n",
       "        text-align: right;\n",
       "    }\n",
       "</style>\n",
       "<table border=\"1\" class=\"dataframe\">\n",
       "  <thead>\n",
       "    <tr style=\"text-align: right;\">\n",
       "      <th></th>\n",
       "      <th>count</th>\n",
       "      <th>mean</th>\n",
       "      <th>std</th>\n",
       "      <th>min</th>\n",
       "      <th>25%</th>\n",
       "      <th>50%</th>\n",
       "      <th>75%</th>\n",
       "      <th>max</th>\n",
       "    </tr>\n",
       "  </thead>\n",
       "  <tbody>\n",
       "    <tr>\n",
       "      <th>Day caffeine? (1 = Yes, 0 = No)</th>\n",
       "      <td>21.0</td>\n",
       "      <td>0.380952</td>\n",
       "      <td>0.497613</td>\n",
       "      <td>0.0</td>\n",
       "      <td>0.0</td>\n",
       "      <td>0.0</td>\n",
       "      <td>1.0</td>\n",
       "      <td>1.0</td>\n",
       "    </tr>\n",
       "    <tr>\n",
       "      <th>Night caffeine? (1 = Yes, 0 = No)</th>\n",
       "      <td>21.0</td>\n",
       "      <td>0.142857</td>\n",
       "      <td>0.358569</td>\n",
       "      <td>0.0</td>\n",
       "      <td>0.0</td>\n",
       "      <td>0.0</td>\n",
       "      <td>0.0</td>\n",
       "      <td>1.0</td>\n",
       "    </tr>\n",
       "    <tr>\n",
       "      <th>Hours of day napping</th>\n",
       "      <td>21.0</td>\n",
       "      <td>0.285714</td>\n",
       "      <td>0.489168</td>\n",
       "      <td>0.0</td>\n",
       "      <td>0.0</td>\n",
       "      <td>0.0</td>\n",
       "      <td>0.5</td>\n",
       "      <td>2.0</td>\n",
       "    </tr>\n",
       "    <tr>\n",
       "      <th>Minutes to fall asleep</th>\n",
       "      <td>21.0</td>\n",
       "      <td>14.761905</td>\n",
       "      <td>5.804350</td>\n",
       "      <td>5.0</td>\n",
       "      <td>10.0</td>\n",
       "      <td>15.0</td>\n",
       "      <td>20.0</td>\n",
       "      <td>25.0</td>\n",
       "    </tr>\n",
       "    <tr>\n",
       "      <th>Bedtime(24-hourtime)</th>\n",
       "      <td>21.0</td>\n",
       "      <td>0.892857</td>\n",
       "      <td>1.467505</td>\n",
       "      <td>-1.0</td>\n",
       "      <td>0.0</td>\n",
       "      <td>0.5</td>\n",
       "      <td>1.5</td>\n",
       "      <td>4.0</td>\n",
       "    </tr>\n",
       "    <tr>\n",
       "      <th>Wakeup_time(24 -hour time)</th>\n",
       "      <td>21.0</td>\n",
       "      <td>9.095238</td>\n",
       "      <td>1.113767</td>\n",
       "      <td>8.0</td>\n",
       "      <td>8.5</td>\n",
       "      <td>8.5</td>\n",
       "      <td>9.5</td>\n",
       "      <td>12.0</td>\n",
       "    </tr>\n",
       "    <tr>\n",
       "      <th>Alarm? (1 = Yes, 0 = No)</th>\n",
       "      <td>21.0</td>\n",
       "      <td>0.666667</td>\n",
       "      <td>0.483046</td>\n",
       "      <td>0.0</td>\n",
       "      <td>0.0</td>\n",
       "      <td>1.0</td>\n",
       "      <td>1.0</td>\n",
       "      <td>1.0</td>\n",
       "    </tr>\n",
       "    <tr>\n",
       "      <th>minutes awakened during night</th>\n",
       "      <td>21.0</td>\n",
       "      <td>9.761905</td>\n",
       "      <td>7.154752</td>\n",
       "      <td>5.0</td>\n",
       "      <td>5.0</td>\n",
       "      <td>5.0</td>\n",
       "      <td>10.0</td>\n",
       "      <td>30.0</td>\n",
       "    </tr>\n",
       "    <tr>\n",
       "      <th>SSI</th>\n",
       "      <td>21.0</td>\n",
       "      <td>2.428571</td>\n",
       "      <td>0.676123</td>\n",
       "      <td>1.0</td>\n",
       "      <td>2.0</td>\n",
       "      <td>2.0</td>\n",
       "      <td>3.0</td>\n",
       "      <td>4.0</td>\n",
       "    </tr>\n",
       "    <tr>\n",
       "      <th>Total Hours Slept</th>\n",
       "      <td>21.0</td>\n",
       "      <td>8.033333</td>\n",
       "      <td>1.107399</td>\n",
       "      <td>6.2</td>\n",
       "      <td>7.3</td>\n",
       "      <td>7.9</td>\n",
       "      <td>8.7</td>\n",
       "      <td>10.1</td>\n",
       "    </tr>\n",
       "  </tbody>\n",
       "</table>\n",
       "</div>"
      ],
      "text/plain": [
       "                                   count       mean       std  min   25%  \\\n",
       "Day caffeine? (1 = Yes, 0 = No)     21.0   0.380952  0.497613  0.0   0.0   \n",
       "Night caffeine? (1 = Yes, 0 = No)   21.0   0.142857  0.358569  0.0   0.0   \n",
       "Hours of day napping                21.0   0.285714  0.489168  0.0   0.0   \n",
       "Minutes to fall asleep              21.0  14.761905  5.804350  5.0  10.0   \n",
       "Bedtime(24-hourtime)                21.0   0.892857  1.467505 -1.0   0.0   \n",
       "Wakeup_time(24 -hour time)          21.0   9.095238  1.113767  8.0   8.5   \n",
       "Alarm? (1 = Yes, 0 = No)            21.0   0.666667  0.483046  0.0   0.0   \n",
       "minutes awakened during night       21.0   9.761905  7.154752  5.0   5.0   \n",
       "SSI                                 21.0   2.428571  0.676123  1.0   2.0   \n",
       "Total Hours Slept                   21.0   8.033333  1.107399  6.2   7.3   \n",
       "\n",
       "                                    50%   75%   max  \n",
       "Day caffeine? (1 = Yes, 0 = No)     0.0   1.0   1.0  \n",
       "Night caffeine? (1 = Yes, 0 = No)   0.0   0.0   1.0  \n",
       "Hours of day napping                0.0   0.5   2.0  \n",
       "Minutes to fall asleep             15.0  20.0  25.0  \n",
       "Bedtime(24-hourtime)                0.5   1.5   4.0  \n",
       "Wakeup_time(24 -hour time)          8.5   9.5  12.0  \n",
       "Alarm? (1 = Yes, 0 = No)            1.0   1.0   1.0  \n",
       "minutes awakened during night       5.0  10.0  30.0  \n",
       "SSI                                 2.0   3.0   4.0  \n",
       "Total Hours Slept                   7.9   8.7  10.1  "
      ]
     },
     "execution_count": 35,
     "metadata": {},
     "output_type": "execute_result"
    }
   ],
   "source": [
    "import seaborn as sns\n",
    "import matplotlib.pyplot as plt\n",
    "import matplotlib\n",
    "import pandas as pd\n",
    "import numpy as np\n",
    "%matplotlib inline\n",
    "\n",
    "df = pd.read_csv(\"davis_grace_female___.csv\")\n",
    "\n",
    "df.describe().T"
   ]
  },
  {
   "cell_type": "code",
   "execution_count": 12,
   "id": "e0a61ca1-a43f-46ee-801f-580e87d77140",
   "metadata": {},
   "outputs": [
    {
     "data": {
      "text/plain": [
       "0.7292717427397307"
      ]
     },
     "execution_count": 12,
     "metadata": {},
     "output_type": "execute_result"
    }
   ],
   "source": [
    "df['Bedtime(24-hourtime)'].corr(df['Wakeup_time(24 -hour time)'])"
   ]
  },
  {
   "cell_type": "code",
   "execution_count": 13,
   "id": "a5fbc81f-fed7-460a-bb23-38110ff140e6",
   "metadata": {},
   "outputs": [
    {
     "data": {
      "text/plain": [
       "-0.6299556969813624"
      ]
     },
     "execution_count": 13,
     "metadata": {},
     "output_type": "execute_result"
    }
   ],
   "source": [
    "df['Bedtime(24-hourtime)'].corr(df['Total Hours Slept'])"
   ]
  },
  {
   "cell_type": "code",
   "execution_count": 14,
   "id": "5fce4c12-4b66-41b3-9802-253ab8796270",
   "metadata": {},
   "outputs": [
    {
     "data": {
      "text/plain": [
       "-0.051349221445036716"
      ]
     },
     "execution_count": 14,
     "metadata": {},
     "output_type": "execute_result"
    }
   ],
   "source": [
    "df['Wakeup_time(24 -hour time)'].corr(df['Total Hours Slept'])"
   ]
  },
  {
   "cell_type": "code",
   "execution_count": 15,
   "id": "249d4684-8d8a-4439-8954-ed4ee333cc72",
   "metadata": {},
   "outputs": [
    {
     "name": "stdout",
     "output_type": "stream",
     "text": [
      "  Wakeup_Date  Wakeup_time(24 -hour time)\n",
      "3   8/28/2022                        11.0\n",
      "4   8/29/2022                         8.5\n",
      "5   8/30/2022                         8.5\n",
      "6   8/31/2022                         8.5\n",
      "7    9/1/2022                         8.5\n",
      "8    9/2/2022                         8.5\n",
      "9    9/3/2022                         8.5\n",
      "   Wakeup_Date  Wakeup_time(24 -hour time)\n",
      "10    9/4/2022                        10.5\n",
      "11    9/5/2022                        11.0\n",
      "12    9/6/2022                         8.5\n",
      "13    9/7/2022                         8.5\n",
      "14    9/8/2022                         8.5\n",
      "15    9/9/2022                         8.5\n",
      "16   9/10/2022                        10.0\n",
      "         Day  Wakeup(week_1)  Wakeup(week_2)\n",
      "0     Sunday            11.0            10.5\n",
      "1     Monday             8.5            11.0\n",
      "2    Tuesday             8.5             8.5\n",
      "3  Wednesday             8.5             8.5\n",
      "4   Thursday             8.5             8.5\n",
      "5     Friday             8.5             8.5\n",
      "6   Saturday             8.5            10.0\n"
     ]
    }
   ],
   "source": [
    "# Wake-up time in the first week and wake-up time in the first week (Holiday vs no holiday)\n",
    "wakeup_1 = (df.iloc[3:10, [0,6]])\n",
    "print(wakeup_1)\n",
    "\n",
    "wakeup_2 = (df.iloc[10:17, [0,6]])\n",
    "print(wakeup_2)\n",
    "\n",
    "df_wakeup = pd.DataFrame({'Day': ['Sunday', 'Monday', 'Tuesday', 'Wednesday', 'Thursday', 'Friday', 'Saturday'],\n",
    "                   'Wakeup(week_1)': [11.0, 8.5, 8.5, 8.5, 8.5, 8.5, 8.5],\n",
    "                   'Wakeup(week_2)': [10.5, 11.0, 8.5, 8.5, 8.5, 8.5, 10.0] })\n",
    "print(df_wakeup)"
   ]
  },
  {
   "cell_type": "code",
   "execution_count": 16,
   "id": "fd702345-465a-4d59-b64a-b8678a46cae3",
   "metadata": {},
   "outputs": [
    {
     "data": {
      "text/plain": [
       "0.4551040991908594"
      ]
     },
     "execution_count": 16,
     "metadata": {},
     "output_type": "execute_result"
    }
   ],
   "source": [
    "df_wakeup['Wakeup(week_1)'].corr(df_wakeup['Wakeup(week_2)'])"
   ]
  },
  {
   "cell_type": "code",
   "execution_count": 17,
   "id": "a76b0c04-b3a0-48dd-a49f-ff52e0b70d84",
   "metadata": {},
   "outputs": [
    {
     "name": "stdout",
     "output_type": "stream",
     "text": [
      "  Wakeup_Date  Bedtime(24-hourtime)\n",
      "3   8/28/2022                  4.00\n",
      "4   8/29/2022                 -0.50\n",
      "5   8/30/2022                  1.50\n",
      "6   8/31/2022                  0.25\n",
      "7    9/1/2022                  0.50\n",
      "8    9/2/2022                  0.50\n",
      "9    9/3/2022                  0.00\n",
      "   Wakeup_Date  Bedtime(24-hourtime)\n",
      "10    9/4/2022                   1.0\n",
      "11    9/5/2022                   2.5\n",
      "12    9/6/2022                  -0.5\n",
      "13    9/7/2022                   0.5\n",
      "14    9/8/2022                   2.5\n",
      "15    9/9/2022                   0.5\n",
      "16   9/10/2022                   2.5\n",
      "         Day  Bedtime(week_1)  Bedtime(week_2)\n",
      "0     Sunday             4.00              1.0\n",
      "1     Monday            -0.50              2.5\n",
      "2    Tuesday             1.50             -0.5\n",
      "3  Wednesday             0.25              0.5\n",
      "4   Thursday             0.50              2.5\n",
      "5     Friday             0.50              0.5\n",
      "6   Saturday             0.00              2.5\n"
     ]
    }
   ],
   "source": [
    "# Bed time in the first week and bed time in the second week\n",
    "bedtime_1 = (df.iloc[3:10, [0,5]])\n",
    "print(bedtime_1)\n",
    "\n",
    "bedtime_2 = (df.iloc[10:17, [0,5]])\n",
    "print(bedtime_2)\n",
    "\n",
    "df_bedtime = pd.DataFrame({'Day': ['Sunday', 'Monday', 'Tuesday', 'Wednesday', 'Thursday', 'Friday', 'Saturday'],\n",
    "                   'Bedtime(week_1)': [4.0, -0.50, 1.50, 0.25, 0.50, 0.50, 0.00],\n",
    "                   'Bedtime(week_2)': [1.0, 2.5, -0.5, 0.5, 2.5, 0.5, 2.5] })\n",
    "print(df_bedtime)"
   ]
  },
  {
   "cell_type": "code",
   "execution_count": 18,
   "id": "505ff070-71b6-420a-a6d5-2ffd131694fb",
   "metadata": {},
   "outputs": [
    {
     "data": {
      "text/plain": [
       "-0.40201149863295277"
      ]
     },
     "execution_count": 18,
     "metadata": {},
     "output_type": "execute_result"
    }
   ],
   "source": [
    "df_bedtime['Bedtime(week_1)'].corr(df_bedtime['Bedtime(week_2)'])"
   ]
  },
  {
   "cell_type": "code",
   "execution_count": 19,
   "id": "1db14c9b-37aa-49a1-9232-5693d91151de",
   "metadata": {},
   "outputs": [
    {
     "data": {
      "text/plain": [
       "0.02003369341824115"
      ]
     },
     "execution_count": 19,
     "metadata": {},
     "output_type": "execute_result"
    }
   ],
   "source": [
    "df['Total Hours Slept'].corr(df['SSI'])"
   ]
  },
  {
   "cell_type": "code",
   "execution_count": 20,
   "id": "265cc10a-76e6-4de1-95b5-ed5288820f6c",
   "metadata": {},
   "outputs": [],
   "source": [
    "df_weekday = df.assign(Day_of_the_Week=['Thursday', 'Friday', 'Saturday', 'Sunday', 'Monday', 'Tuesday', 'Wednesday', 'Thursday', 'Friday', 'Saturday', 'Sunday', 'Monday', 'Tuesday', 'Wednesday', 'Thursday', 'Friday', 'Saturday', 'Sunday', 'Monday', 'Tuesday', 'Wednesday',])\n",
    "# display(df_weekday)"
   ]
  },
  {
   "cell_type": "code",
   "execution_count": 22,
   "id": "70a52b53-561e-4fde-a086-1af1521fad77",
   "metadata": {},
   "outputs": [
    {
     "data": {
      "image/png": "[encoded data removed]",
      "text/plain": [
       "<Figure size 432x288 with 1 Axes>"
      ]
     },
     "metadata": {
      "needs_background": "light"
     },
     "output_type": "display_data"
    }
   ],
   "source": [
    "# GRAPHS 1.)\n",
    "\n",
    "from importlib import reload #to fix labels not appearing\n",
    "matplotlib=reload(plt)\n",
    "\n",
    "df2= df_weekday.groupby('Day_of_the_Week',as_index=False).mean() #group data by DOW and calculate mean\n",
    "y_error=np.linspace(2,5,7) #indicates yerr argument us in error bar function\n",
    "plt.errorbar(df2['Day_of_the_Week'],df2['Bedtime(24-hourtime)'],yerr=y_error, #plots the errorbars\n",
    "             fmt='o', color='Black', elinewidth=3,\n",
    "             capthick=3,errorevery=1, alpha=1, ms=4, capsize=5)\n",
    "plt.plot(df2['Day_of_the_Week'],df2['Bedtime(24-hourtime)'])\n",
    "plt.xlabel('Day of the Week')\n",
    "plt.ylabel('Bedtime')\n",
    "plt.title('Bedtimes by Day of the Week')\n",
    "plt.grid=True"
   ]
  },
  {
   "cell_type": "code",
   "execution_count": 23,
   "id": "a2df533e-319f-4a4b-ba5c-c68ba1e213e9",
   "metadata": {},
   "outputs": [
    {
     "data": {
      "image/png": "[encoded data removed]",
      "text/plain": [
       "<Figure size 432x288 with 1 Axes>"
      ]
     },
     "metadata": {
      "needs_background": "light"
     },
     "output_type": "display_data"
    }
   ],
   "source": [
    "df2= df_weekday.groupby('Day_of_the_Week',as_index=False).mean() #group data by DOW and calculate mean\n",
    "y_error=np.linspace(2,5,7) #indicates yerr argument us in error bar function\n",
    "plt.errorbar(df2['Day_of_the_Week'],df2['Total Hours Slept'],yerr=y_error, #plots the errorbars\n",
    "             fmt='o', color='Black', elinewidth=3,\n",
    "             capthick=3,errorevery=1, alpha=1, ms=4, capsize=5)\n",
    "plt.plot(df2['Day_of_the_Week'],df2['Total Hours Slept'])\n",
    "plt.xlabel('Day of the Week')\n",
    "plt.ylabel('Total Hours Slept')\n",
    "plt.title('Total Hours Slept by Day of the Week')\n",
    "plt.grid=True"
   ]
  },
  {
   "cell_type": "code",
   "execution_count": 24,
   "id": "849a8162-8c8c-42bc-aa63-fe20df54784e",
   "metadata": {},
   "outputs": [
    {
     "name": "stdout",
     "output_type": "stream",
     "text": [
      "             Bedtime(24-hourtime)\n",
      "Wakeup_Date                      \n",
      "8/25/2022                    0.00\n",
      "8/26/2022                    1.50\n",
      "8/27/2022                    4.00\n",
      "8/28/2022                    4.00\n",
      "8/29/2022                   -0.50\n",
      "8/30/2022                    1.50\n",
      "8/31/2022                    0.25\n",
      "9/1/2022                     0.50\n",
      "9/2/2022                     0.50\n",
      "9/3/2022                     0.00\n",
      "9/4/2022                     1.00\n",
      "9/5/2022                     2.50\n",
      "9/6/2022                    -0.50\n",
      "9/7/2022                     0.50\n",
      "9/8/2022                     2.50\n",
      "9/9/2022                     0.50\n",
      "9/10/2022                    2.50\n",
      "9/11/2022                   -1.00\n",
      "9/12/2022                    0.00\n",
      "9/13/2022                    0.00\n",
      "9/14/2022                   -1.00\n"
     ]
    }
   ],
   "source": [
    "# GRAPHS 2.)\n",
    "\n",
    "bedtime_data = (df.iloc[:, [0,5]])\n",
    "bedtime_=bedtime_data.set_index('Wakeup_Date')\n",
    "print(bedtime_)"
   ]
  },
  {
   "cell_type": "code",
   "execution_count": 25,
   "id": "ddd7c6b1-a424-4243-96a1-d2ca6a64ec94",
   "metadata": {},
   "outputs": [
    {
     "data": {
      "image/png": "[encoded data removed]",
      "text/plain": [
       "<Figure size 432x288 with 1 Axes>"
      ]
     },
     "metadata": {
      "needs_background": "light"
     },
     "output_type": "display_data"
    }
   ],
   "source": [
    "plt.hist(bedtime_)\n",
    "plt.xlabel('Bedtime (-1=11pm, 0=12am, and so on)')\n",
    "plt.ylabel('Frequency')\n",
    "plt.title('Frequency of Bedtimes')\n",
    "plt.show()"
   ]
  },
  {
   "cell_type": "code",
   "execution_count": 26,
   "id": "6a623502-2f3e-41bc-9e6b-570c6d1890a9",
   "metadata": {},
   "outputs": [
    {
     "name": "stdout",
     "output_type": "stream",
     "text": [
      "             Wakeup_time(24 -hour time)\n",
      "Wakeup_Date                            \n",
      "8/25/2022                           8.0\n",
      "8/26/2022                           8.5\n",
      "8/27/2022                          12.0\n",
      "8/28/2022                          11.0\n",
      "8/29/2022                           8.5\n",
      "8/30/2022                           8.5\n",
      "8/31/2022                           8.5\n",
      "9/1/2022                            8.5\n",
      "9/2/2022                            8.5\n",
      "9/3/2022                            8.5\n",
      "9/4/2022                           10.5\n",
      "9/5/2022                           11.0\n",
      "9/6/2022                            8.5\n",
      "9/7/2022                            8.5\n",
      "9/8/2022                            8.5\n",
      "9/9/2022                            8.5\n",
      "9/10/2022                          10.0\n",
      "9/11/2022                           9.5\n",
      "9/12/2022                           8.5\n",
      "9/13/2022                           8.5\n",
      "9/14/2022                           8.5\n"
     ]
    }
   ],
   "source": [
    "wakeuptime_data = (df.iloc[:, [0,6]])\n",
    "wakeuptime_=wakeuptime_data.set_index('Wakeup_Date')\n",
    "print(wakeuptime_)"
   ]
  },
  {
   "cell_type": "code",
   "execution_count": 27,
   "id": "6843b33b-ae02-41c7-94b9-5e054ecb5523",
   "metadata": {},
   "outputs": [
    {
     "data": {
      "image/png": "[encoded data removed]",
      "text/plain": [
       "<Figure size 432x288 with 1 Axes>"
      ]
     },
     "metadata": {
      "needs_background": "light"
     },
     "output_type": "display_data"
    }
   ],
   "source": [
    "plt.hist(wakeuptime_)\n",
    "plt.xlabel('Wake-up Time (8.5=8:30am, 9=9:00am, and so on)')\n",
    "plt.ylabel('Frequency')\n",
    "plt.title('Frequency of Wake-up Times')\n",
    "plt.show()"
   ]
  },
  {
   "cell_type": "code",
   "execution_count": 49,
   "id": "86a509e0-5fdd-4073-821d-1081b1ad063c",
   "metadata": {},
   "outputs": [
    {
     "name": "stdout",
     "output_type": "stream",
     "text": [
      "0.7292717427397307\n"
     ]
    },
    {
     "data": {
      "image/png": "[encoded data removed]",
      "text/plain": [
       "<Figure size 432x288 with 1 Axes>"
      ]
     },
     "metadata": {
      "needs_background": "light"
     },
     "output_type": "display_data"
    }
   ],
   "source": [
    "# GRAPHS 3.)\n",
    "from importlib import reload\n",
    "matplotlib=reload(plt)\n",
    "\n",
    "plt.scatter(df['Bedtime(24-hourtime)'], df['Wakeup_time(24 -hour time)'])\n",
    "plt.xlabel('Bedtime')\n",
    "plt.ylabel('Wakeup Time')\n",
    "plt.title('Bedtime & Wakeup Time Correlation')\n",
    "plt.grid(True)\n",
    "\n",
    "#positive correlation\n",
    "print(df['Bedtime(24-hourtime)'].corr(df['Wakeup_time(24 -hour time)']))"
   ]
  },
  {
   "cell_type": "code",
   "execution_count": 4,
   "id": "b75afced-71d1-4c25-9408-66a75f184d75",
   "metadata": {},
   "outputs": [
    {
     "name": "stdout",
     "output_type": "stream",
     "text": [
      "-0.6299556969813624\n"
     ]
    },
    {
     "data": {
      "image/png": "[encoded data removed]",
      "text/plain": [
       "<Figure size 432x288 with 1 Axes>"
      ]
     },
     "metadata": {
      "needs_background": "light"
     },
     "output_type": "display_data"
    }
   ],
   "source": [
    "plt.scatter(df['Bedtime(24-hourtime)'], df['Total Hours Slept'])\n",
    "plt.xlabel('Bedtime')\n",
    "plt.ylabel('Total Hours Slept')\n",
    "plt.title('Bedtime & Total Hours Slept Correlation')\n",
    "plt.grid(True)\n",
    "\n",
    "# negative correlation\n",
    "print(df['Bedtime(24-hourtime)'].corr(df['Total Hours Slept']))"
   ]
  },
  {
   "cell_type": "code",
   "execution_count": 119,
   "id": "29001e24-84ef-4c2c-b8e1-b633304a51b7",
   "metadata": {},
   "outputs": [
    {
     "name": "stdout",
     "output_type": "stream",
     "text": [
      "-0.33341041711712766\n"
     ]
    },
    {
     "data": {
      "image/png": "[encoded data removed]",
      "text/plain": [
       "<Figure size 432x288 with 1 Axes>"
      ]
     },
     "metadata": {
      "needs_background": "light"
     },
     "output_type": "display_data"
    }
   ],
   "source": [
    "plt.scatter(df['minutes awakened during night'], df['Total Hours Slept'])\n",
    "plt.xlabel('Minutes Awake during the Night')\n",
    "plt.ylabel('Total Hours Slept')\n",
    "plt.title('Minutes Awake during the Night & Total Hours Slept Correlation')\n",
    "plt.grid(True)\n",
    "\n",
    "#very weak negative correlation\n",
    "print(df['minutes awakened during night'].corr(df['Total Hours Slept']))"
   ]
  },
  {
   "cell_type": "code",
   "execution_count": 8,
   "id": "7f8b1968-b926-4d3d-861c-60eb7f31f1ba",
   "metadata": {},
   "outputs": [
    {
     "name": "stdout",
     "output_type": "stream",
     "text": [
      "-0.2787400493403688\n",
      "-0.03640176285872177\n"
     ]
    },
    {
     "data": {
      "image/png": "[encoded data removed]",
      "text/plain": [
       "<Figure size 432x288 with 1 Axes>"
      ]
     },
     "metadata": {
      "needs_background": "light"
     },
     "output_type": "display_data"
    }
   ],
   "source": [
    "plt.scatter(df['Minutes to fall asleep'], df['Total Hours Slept'])\n",
    "plt.xlabel('Minutes to fall asleep')\n",
    "plt.ylabel('Total Hours Slept')\n",
    "plt.title('Minutes to fall asleep & Total Hours Slept Correlation')\n",
    "plt.grid(True)\n",
    "\n",
    "#extremely weak negative correlation\n",
    "print(df['Minutes to fall asleep'].corr(df['Total Hours Slept']))\n",
    "print(df['Minutes to fall asleep'].corr(df['SSI']))"
   ]
  },
  {
   "cell_type": "code",
   "execution_count": 9,
   "id": "87b6405a-df99-48b9-8e68-305acacf6c19",
   "metadata": {},
   "outputs": [
    {
     "name": "stdout",
     "output_type": "stream",
     "text": [
      "0.02003369341824115\n"
     ]
    },
    {
     "data": {
      "image/png": "[encoded data removed]",
      "text/plain": [
       "<Figure size 432x288 with 1 Axes>"
      ]
     },
     "metadata": {
      "needs_background": "light"
     },
     "output_type": "display_data"
    }
   ],
   "source": [
    "plt.scatter(df['SSI'], df['Total Hours Slept'])\n",
    "plt.xlabel('SSI')\n",
    "plt.ylabel('Total Hours Slept')\n",
    "plt.title('SSI & Total Hours Slept Correlation')\n",
    "plt.grid(True)\n",
    "\n",
    "#no correlation\n",
    "\n",
    "print(df['SSI'].corr(df['Total Hours Slept']))"
   ]
  },
  {
   "cell_type": "code",
   "execution_count": null,
   "id": "13ce5efe-3991-4b7e-928d-af13dd4a2d42",
   "metadata": {},
   "outputs": [],
   "source": []
  }
 ],
 "metadata": {
  "kernelspec": {
   "display_name": "Python 3 (ipykernel)",
   "language": "python",
   "name": "python3"
  },
  "language_info": {
   "codemirror_mode": {
    "name": "ipython",
    "version": 3
   },
   "file_extension": ".py",
   "mimetype": "text/x-python",
   "name": "python",
   "nbconvert_exporter": "python",
   "pygments_lexer": "ipython3",
   "version": "3.9.12"
  }
 },
 "nbformat": 4,
 "nbformat_minor": 5
}
